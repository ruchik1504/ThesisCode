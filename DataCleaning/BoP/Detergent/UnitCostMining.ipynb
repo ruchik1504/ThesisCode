{
 "cells": [
  {
   "cell_type": "code",
   "execution_count": 1,
   "metadata": {},
   "outputs": [],
   "source": [
    "import pandas as pd\n",
    "import numpy as np"
   ]
  },
  {
   "cell_type": "code",
   "execution_count": 2,
   "metadata": {},
   "outputs": [],
   "source": [
    "total_costs = pd.read_csv('Detergent_TotalCost.csv')\n",
    "unit_costs = pd.read_csv('Detergent_UnitCost.csv')\n",
    "price_indices = pd.read_csv('PriceIndices.csv')"
   ]
  },
  {
   "cell_type": "code",
   "execution_count": 4,
   "metadata": {},
   "outputs": [],
   "source": [
    "unit_costs = unit_costs[['COICOP','GEO','Value']]\n",
    "unit_costs_reformat = pd.DataFrame()\n",
    "unit_costs_reformat['GEO'] = unit_costs['GEO'].unique()\n",
    "for typeof in (unit_costs['COICOP'].unique()):\n",
    "    specific_type = unit_costs[unit_costs['COICOP'] == typeof]\n",
    "    specific_type = specific_type.reset_index(drop=True)\n",
    "    unit_costs_reformat[typeof] = specific_type['Value']"
   ]
  },
  {
   "cell_type": "code",
   "execution_count": 5,
   "metadata": {},
   "outputs": [
    {
     "name": "stderr",
     "output_type": "stream",
     "text": [
      "C:\\Users\\patel\\Anaconda3\\lib\\site-packages\\ipykernel_launcher.py:4: FutureWarning: \n",
      ".ix is deprecated. Please use\n",
      ".loc for label based indexing or\n",
      ".iloc for positional indexing\n",
      "\n",
      "See the documentation here:\n",
      "http://pandas.pydata.org/pandas-docs/stable/user_guide/indexing.html#ix-indexer-is-deprecated\n",
      "  after removing the cwd from sys.path.\n",
      "C:\\Users\\patel\\Anaconda3\\lib\\site-packages\\pandas\\core\\indexing.py:961: FutureWarning: \n",
      ".ix is deprecated. Please use\n",
      ".loc for label based indexing or\n",
      ".iloc for positional indexing\n",
      "\n",
      "See the documentation here:\n",
      "http://pandas.pydata.org/pandas-docs/stable/user_guide/indexing.html#ix-indexer-is-deprecated\n",
      "  return getattr(section, self.name)[new_key]\n"
     ]
    }
   ],
   "source": [
    "count = 0\n",
    "for i in range (0,len(unit_costs_reformat)):\n",
    "    for j in range(1,len(unit_costs_reformat.columns)):\n",
    "        if unit_costs_reformat.ix[i,j] == ':':\n",
    "            count  = count + 1\n",
    "    if (count==len(unit_costs_reformat.columns)-1):\n",
    "        unit_costs_reformat = unit_costs_reformat.drop(i)\n",
    "    count = 0\n",
    "unit_costs_reformat = unit_costs_reformat.reset_index(drop=True)\n",
    "total_costs = total_costs[total_costs['GEO'] != 'Euro area (EA11-1999, EA12-2001, EA13-2007, EA15-2008, EA16-2009, EA17-2011, EA18-2014, EA19-2015)']"
   ]
  },
  {
   "cell_type": "code",
   "execution_count": 7,
   "metadata": {},
   "outputs": [],
   "source": [
    "price_indices.head()\n",
    "col_names = ['TIME'] + list(unit_costs_reformat.columns)\n",
    "final_costs = pd.DataFrame(columns = col_names)"
   ]
  },
  {
   "cell_type": "code",
   "execution_count": 8,
   "metadata": {},
   "outputs": [],
   "source": [
    "row_index= 0\n",
    "for time in total_costs['TIME'].unique():\n",
    "    for country in total_costs['GEO'].unique():\n",
    "        values = [time,country]\n",
    "        if country in unit_costs_reformat['GEO'].unique():\n",
    "            for typeof in col_names[2:len(col_names)]:\n",
    "                if (unit_costs_reformat.loc[unit_costs_reformat['GEO']==country,typeof].iloc[0] != ':'):\n",
    "                    values.append(unit_costs_reformat.loc[unit_costs_reformat['GEO']==country,typeof].iloc[0])\n",
    "                else:\n",
    "                    available_values = unit_costs_reformat[['GEO',typeof]]\n",
    "                    available_values = available_values.drop(available_values.loc[available_values[typeof]==\":\"].index).reset_index()\n",
    "                    country_available = available_values.loc[0,'GEO']\n",
    "                    price = available_values.loc[0,typeof]\n",
    "                    if (time != 2019):\n",
    "                        price_indices_year = price_indices[price_indices['TIME']== time]\n",
    "                        price_indice_available_country = price_indices_year.loc[price_indices['GEO']==country_available,'Value'].iloc[0]\n",
    "                        price_indice_required_country = price_indices_year.loc[price_indices['GEO']==country,'Value'].iloc[0]\n",
    "                        if (price_indice_required_country == \":\"):\n",
    "                            price_indice_required_country = 100\n",
    "                        price_required_country = float(price)*float(price_indice_required_country)/float(price_indice_available_country)\n",
    "                        values.append(price_required_country)\n",
    "                    else:\n",
    "                        price_indices_year = price_indices[price_indices['TIME']== (time-1)]\n",
    "                        price_indice_available_country = price_indices_year.loc[price_indices['GEO']==country_available,'Value'].iloc[0]\n",
    "                        price_indice_required_country = price_indices_year.loc[price_indices['GEO']==country,'Value'].iloc[0]\n",
    "                        if (price_indice_required_country == \":\"):\n",
    "                            price_indice_required_country = 100\n",
    "                        price_required_country = float(price)*float(price_indice_required_country)/float(price_indice_available_country)\n",
    "                        values.append(price_required_country)\n",
    "            final_costs.loc[row_index] = values\n",
    "            row_index = row_index + 1\n",
    "\n",
    "        else:\n",
    "            for typeof in col_names[2:len(col_names)]:\n",
    "                available_values = unit_costs_reformat[['GEO',typeof]]\n",
    "                available_values = available_values.drop(available_values.loc[available_values[typeof]==\":\"].index).reset_index()\n",
    "                country_available = available_values.loc[0,'GEO']\n",
    "                price = available_values.loc[0,typeof]\n",
    "                if (time != 2019):\n",
    "                    price_indices_year = price_indices[price_indices['TIME']== time]\n",
    "                    price_indice_available_country = price_indices_year.loc[price_indices['GEO']==country_available,'Value'].iloc[0]\n",
    "                    price_indice_required_country = price_indices_year.loc[price_indices['GEO']==country,'Value'].iloc[0]\n",
    "                    if (price_indice_required_country == \":\"):\n",
    "                        price_indice_required_country = 100\n",
    "                    price_required_country = float(price)*float(price_indice_required_country)/float(price_indice_available_country)\n",
    "                    values.append(price_required_country)\n",
    "                else:\n",
    "                    price_indices_year = price_indices[price_indices['TIME']== (time-1)]\n",
    "                    price_indice_available_country = price_indices_year.loc[price_indices['GEO']==country_available,'Value'].iloc[0]\n",
    "                    price_indice_required_country = price_indices_year.loc[price_indices['GEO']==country,'Value'].iloc[0]\n",
    "                    if (price_indice_required_country == \":\"):\n",
    "                        price_indice_required_country = 100\n",
    "                    price_required_country = float(price)*float(price_indice_required_country)/float(price_indice_available_country)\n",
    "                    values.append(price_required_country)\n",
    "            \n",
    "            final_costs.loc[row_index] = values\n",
    "            row_index = row_index + 1\n",
    "final_costs.to_csv('FinalUnitcosts.csv',index=False)"
   ]
  }
 ],
 "metadata": {
  "kernelspec": {
   "display_name": "Python 3",
   "language": "python",
   "name": "python3"
  },
  "language_info": {
   "codemirror_mode": {
    "name": "ipython",
    "version": 3
   },
   "file_extension": ".py",
   "mimetype": "text/x-python",
   "name": "python",
   "nbconvert_exporter": "python",
   "pygments_lexer": "ipython3",
   "version": "3.7.6"
  }
 },
 "nbformat": 4,
 "nbformat_minor": 4
}
