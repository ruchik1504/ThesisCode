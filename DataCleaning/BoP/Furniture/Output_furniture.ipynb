{
 "cells": [
  {
   "cell_type": "code",
   "execution_count": 3,
   "metadata": {},
   "outputs": [],
   "source": [
    "import pandas as pd\n",
    "import numpy as np\n",
    "import locale\n",
    "from locale import atof\n",
    "from sklearn.model_selection import train_test_split\n",
    "from sklearn.ensemble import RandomForestClassifier\n",
    "#population = pd.read_csv('Population.csv')"
   ]
  },
  {
   "cell_type": "code",
   "execution_count": 4,
   "metadata": {},
   "outputs": [],
   "source": [
    "final_input_data = pd.read_csv('C:/Users/patel/Thesis/DataCleaning/BoP/inputdata.csv')\n",
    "furniture_expense = pd.read_csv('Total_furniture_Expense.csv')\n",
    "unit_furniture_expense = pd.read_excel('Furniture_unit_expenses.xlsx')\n",
    "furniture_expense = furniture_expense[furniture_expense['COICOP'] == 'Furniture and furnishings, carpets and other floor coverings']\n",
    "furniture_expense['Value'] = furniture_expense['Value'].replace({' ':''},regex=True)\n",
    "furniture_expense['Value'] = pd.to_numeric(furniture_expense['Value'],errors='coerce')\n",
    "furniture_expense = furniture_expense[['TIME','GEO','Value']]\n",
    "furniture_expense.replace({\":\":np.NaN}, inplace=True)\n",
    "unit_furniture_expense['Total per unit'] = (unit_furniture_expense['Armchair'] +unit_furniture_expense['Double bed Frame'] \\\n",
    "                                           + unit_furniture_expense['Kitchen Table']+ unit_furniture_expense['Spring Mattress']\\\n",
    "                                           + unit_furniture_expense['Sofa set'] + unit_furniture_expense['Wardrobe'])/6\n",
    "unit_furniture_expense.rename(columns = {'Country':'GEO'}, inplace = True)\n",
    "final_furniture_expenses = pd.merge(furniture_expense,unit_furniture_expense,how='inner',on=['GEO'])\n",
    "final_furniture_expenses['Total units'] = (final_furniture_expenses['Value']/final_furniture_expenses['Total per unit'])*(1000000)\n",
    "final_furniture_consumption = final_furniture_expenses[['TIME','GEO','Total units']]\n",
    "final_data = pd.merge(final_input_data,final_furniture_consumption,how='inner',on=['TIME','GEO'])\n",
    "final_data['consumption_per_capita'] = final_data['Total units']/final_data['Total_pop']\n",
    "final_data.drop(['Total units', 'Total_pop','TIME','GEO'], axis=1, inplace=True)\n",
    "final_data.to_csv('final_input_output.csv',index=False)"
   ]
  },
  {
   "cell_type": "code",
   "execution_count": 5,
   "metadata": {},
   "outputs": [
    {
     "data": {
      "text/html": [
       "<div>\n",
       "<style scoped>\n",
       "    .dataframe tbody tr th:only-of-type {\n",
       "        vertical-align: middle;\n",
       "    }\n",
       "\n",
       "    .dataframe tbody tr th {\n",
       "        vertical-align: top;\n",
       "    }\n",
       "\n",
       "    .dataframe thead th {\n",
       "        text-align: right;\n",
       "    }\n",
       "</style>\n",
       "<table border=\"1\" class=\"dataframe\">\n",
       "  <thead>\n",
       "    <tr style=\"text-align: right;\">\n",
       "      <th></th>\n",
       "      <th>TIME</th>\n",
       "      <th>GEO</th>\n",
       "      <th>Value</th>\n",
       "    </tr>\n",
       "  </thead>\n",
       "  <tbody>\n",
       "    <tr>\n",
       "      <td>1</td>\n",
       "      <td>2010</td>\n",
       "      <td>European Union - 27 countries (from 2020)</td>\n",
       "      <td>119449.6</td>\n",
       "    </tr>\n",
       "    <tr>\n",
       "      <td>3</td>\n",
       "      <td>2010</td>\n",
       "      <td>European Union - 28 countries (2013-2020)</td>\n",
       "      <td>136554.2</td>\n",
       "    </tr>\n",
       "    <tr>\n",
       "      <td>5</td>\n",
       "      <td>2010</td>\n",
       "      <td>European Union - 15 countries (1995-2004)</td>\n",
       "      <td>128202.0</td>\n",
       "    </tr>\n",
       "    <tr>\n",
       "      <td>7</td>\n",
       "      <td>2010</td>\n",
       "      <td>Euro area (EA11-1999, EA12-2001, EA13-2007, EA...</td>\n",
       "      <td>106816.8</td>\n",
       "    </tr>\n",
       "    <tr>\n",
       "      <td>9</td>\n",
       "      <td>2010</td>\n",
       "      <td>Euro area - 19 countries  (from 2015)</td>\n",
       "      <td>107292.7</td>\n",
       "    </tr>\n",
       "  </tbody>\n",
       "</table>\n",
       "</div>"
      ],
      "text/plain": [
       "   TIME                                                GEO     Value\n",
       "1  2010          European Union - 27 countries (from 2020)  119449.6\n",
       "3  2010          European Union - 28 countries (2013-2020)  136554.2\n",
       "5  2010          European Union - 15 countries (1995-2004)  128202.0\n",
       "7  2010  Euro area (EA11-1999, EA12-2001, EA13-2007, EA...  106816.8\n",
       "9  2010              Euro area - 19 countries  (from 2015)  107292.7"
      ]
     },
     "execution_count": 5,
     "metadata": {},
     "output_type": "execute_result"
    }
   ],
   "source": [
    "furniture_expense.head()"
   ]
  }
 ],
 "metadata": {
  "kernelspec": {
   "display_name": "Python 3",
   "language": "python",
   "name": "python3"
  },
  "language_info": {
   "codemirror_mode": {
    "name": "ipython",
    "version": 3
   },
   "file_extension": ".py",
   "mimetype": "text/x-python",
   "name": "python",
   "nbconvert_exporter": "python",
   "pygments_lexer": "ipython3",
   "version": "3.7.4"
  }
 },
 "nbformat": 4,
 "nbformat_minor": 4
}
