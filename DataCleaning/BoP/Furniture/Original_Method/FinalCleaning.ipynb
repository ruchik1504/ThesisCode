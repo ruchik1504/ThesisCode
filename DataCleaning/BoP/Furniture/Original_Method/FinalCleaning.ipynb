{
 "cells": [
  {
   "cell_type": "code",
   "execution_count": 18,
   "metadata": {},
   "outputs": [],
   "source": [
    "import pandas as pd\n",
    "import numpy as np"
   ]
  },
  {
   "cell_type": "code",
   "execution_count": 19,
   "metadata": {},
   "outputs": [],
   "source": [
    "final_input_data = pd.read_csv('C:/Users/patel/Thesis/DataCleaning/BoP/inputdata.csv')\n",
    "furniture_expense = pd.read_csv('Furniture_TotalCost.csv')\n",
    "unit_furniture_expense = pd.read_csv('FinalUnitcosts.csv')"
   ]
  },
  {
   "cell_type": "code",
   "execution_count": 20,
   "metadata": {},
   "outputs": [],
   "source": [
    "furniture_expense = furniture_expense[furniture_expense['COICOP'] != 'Total'] "
   ]
  },
  {
   "cell_type": "code",
   "execution_count": 21,
   "metadata": {},
   "outputs": [
    {
     "data": {
      "text/html": [
       "<div>\n",
       "<style scoped>\n",
       "    .dataframe tbody tr th:only-of-type {\n",
       "        vertical-align: middle;\n",
       "    }\n",
       "\n",
       "    .dataframe tbody tr th {\n",
       "        vertical-align: top;\n",
       "    }\n",
       "\n",
       "    .dataframe thead th {\n",
       "        text-align: right;\n",
       "    }\n",
       "</style>\n",
       "<table border=\"1\" class=\"dataframe\">\n",
       "  <thead>\n",
       "    <tr style=\"text-align: right;\">\n",
       "      <th></th>\n",
       "      <th>TIME</th>\n",
       "      <th>GEO</th>\n",
       "      <th>Value</th>\n",
       "    </tr>\n",
       "  </thead>\n",
       "  <tbody>\n",
       "    <tr>\n",
       "      <td>1</td>\n",
       "      <td>2010</td>\n",
       "      <td>European Union - 27 countries (from 2020)</td>\n",
       "      <td>119449.6</td>\n",
       "    </tr>\n",
       "    <tr>\n",
       "      <td>3</td>\n",
       "      <td>2010</td>\n",
       "      <td>European Union - 28 countries (2013-2020)</td>\n",
       "      <td>136554.2</td>\n",
       "    </tr>\n",
       "    <tr>\n",
       "      <td>5</td>\n",
       "      <td>2010</td>\n",
       "      <td>European Union - 15 countries (1995-2004)</td>\n",
       "      <td>128202.0</td>\n",
       "    </tr>\n",
       "    <tr>\n",
       "      <td>7</td>\n",
       "      <td>2010</td>\n",
       "      <td>Euro area (EA11-1999, EA12-2001, EA13-2007, EA...</td>\n",
       "      <td>106816.8</td>\n",
       "    </tr>\n",
       "    <tr>\n",
       "      <td>9</td>\n",
       "      <td>2010</td>\n",
       "      <td>Euro area - 19 countries  (from 2015)</td>\n",
       "      <td>107292.7</td>\n",
       "    </tr>\n",
       "  </tbody>\n",
       "</table>\n",
       "</div>"
      ],
      "text/plain": [
       "   TIME                                                GEO     Value\n",
       "1  2010          European Union - 27 countries (from 2020)  119449.6\n",
       "3  2010          European Union - 28 countries (2013-2020)  136554.2\n",
       "5  2010          European Union - 15 countries (1995-2004)  128202.0\n",
       "7  2010  Euro area (EA11-1999, EA12-2001, EA13-2007, EA...  106816.8\n",
       "9  2010              Euro area - 19 countries  (from 2015)  107292.7"
      ]
     },
     "execution_count": 21,
     "metadata": {},
     "output_type": "execute_result"
    }
   ],
   "source": [
    "furniture_expense = furniture_expense[furniture_expense['UNIT']=='Current prices, million euro']\n",
    "furniture_expense.head()\n",
    "furniture_expense['Value'] = furniture_expense['Value'].replace({' ':''},regex=True)\n",
    "furniture_expense['Value'] = pd.to_numeric(furniture_expense['Value'],errors='coerce')\n",
    "furniture_expense = furniture_expense[['TIME','GEO','Value']]\n",
    "furniture_expense.replace({\":\":np.NaN}, inplace=True)\n",
    "furniture_expense.head()"
   ]
  },
  {
   "cell_type": "code",
   "execution_count": 22,
   "metadata": {},
   "outputs": [],
   "source": [
    "unit_furniture_expense['Average per piece'] = unit_furniture_expense.iloc[:,2:].mean(axis=1)"
   ]
  },
  {
   "cell_type": "code",
   "execution_count": 23,
   "metadata": {},
   "outputs": [
    {
     "data": {
      "text/html": [
       "<div>\n",
       "<style scoped>\n",
       "    .dataframe tbody tr th:only-of-type {\n",
       "        vertical-align: middle;\n",
       "    }\n",
       "\n",
       "    .dataframe tbody tr th {\n",
       "        vertical-align: top;\n",
       "    }\n",
       "\n",
       "    .dataframe thead th {\n",
       "        text-align: right;\n",
       "    }\n",
       "</style>\n",
       "<table border=\"1\" class=\"dataframe\">\n",
       "  <thead>\n",
       "    <tr style=\"text-align: right;\">\n",
       "      <th></th>\n",
       "      <th>male_percent</th>\n",
       "      <th>female_percent</th>\n",
       "      <th>0 to 15 percent</th>\n",
       "      <th>15 to 25 percent</th>\n",
       "      <th>25 to 45 percent</th>\n",
       "      <th>45 to 65 percent</th>\n",
       "      <th>65 or older percent</th>\n",
       "      <th>Primary</th>\n",
       "      <th>Secondary</th>\n",
       "      <th>Tertiary</th>\n",
       "      <th>activity_level</th>\n",
       "      <th>Income</th>\n",
       "      <th>consumption_per_capita</th>\n",
       "    </tr>\n",
       "  </thead>\n",
       "  <tbody>\n",
       "    <tr>\n",
       "      <td>0</td>\n",
       "      <td>0.487521</td>\n",
       "      <td>0.512479</td>\n",
       "      <td>0.154213</td>\n",
       "      <td>0.118512</td>\n",
       "      <td>0.284226</td>\n",
       "      <td>0.266767</td>\n",
       "      <td>0.176282</td>\n",
       "      <td>0.317</td>\n",
       "      <td>0.468</td>\n",
       "      <td>0.216</td>\n",
       "      <td>0.70325</td>\n",
       "      <td>14546.0</td>\n",
       "      <td>1.061828</td>\n",
       "    </tr>\n",
       "    <tr>\n",
       "      <td>1</td>\n",
       "      <td>0.487906</td>\n",
       "      <td>0.512094</td>\n",
       "      <td>0.156951</td>\n",
       "      <td>0.120054</td>\n",
       "      <td>0.283263</td>\n",
       "      <td>0.265144</td>\n",
       "      <td>0.174588</td>\n",
       "      <td>0.308</td>\n",
       "      <td>0.465</td>\n",
       "      <td>0.228</td>\n",
       "      <td>0.70975</td>\n",
       "      <td>14863.0</td>\n",
       "      <td>1.047127</td>\n",
       "    </tr>\n",
       "    <tr>\n",
       "      <td>2</td>\n",
       "      <td>0.487864</td>\n",
       "      <td>0.512136</td>\n",
       "      <td>0.154420</td>\n",
       "      <td>0.114562</td>\n",
       "      <td>0.282228</td>\n",
       "      <td>0.266031</td>\n",
       "      <td>0.182760</td>\n",
       "      <td>0.346</td>\n",
       "      <td>0.428</td>\n",
       "      <td>0.227</td>\n",
       "      <td>0.71300</td>\n",
       "      <td>17045.0</td>\n",
       "      <td>1.216533</td>\n",
       "    </tr>\n",
       "    <tr>\n",
       "      <td>3</td>\n",
       "      <td>0.490062</td>\n",
       "      <td>0.509938</td>\n",
       "      <td>0.169027</td>\n",
       "      <td>0.120974</td>\n",
       "      <td>0.270043</td>\n",
       "      <td>0.268353</td>\n",
       "      <td>0.171603</td>\n",
       "      <td>0.326</td>\n",
       "      <td>0.367</td>\n",
       "      <td>0.307</td>\n",
       "      <td>0.67650</td>\n",
       "      <td>19458.0</td>\n",
       "      <td>1.369597</td>\n",
       "    </tr>\n",
       "    <tr>\n",
       "      <td>4</td>\n",
       "      <td>0.486940</td>\n",
       "      <td>0.513060</td>\n",
       "      <td>0.131530</td>\n",
       "      <td>0.122029</td>\n",
       "      <td>0.282031</td>\n",
       "      <td>0.282719</td>\n",
       "      <td>0.181690</td>\n",
       "      <td>0.251</td>\n",
       "      <td>0.551</td>\n",
       "      <td>0.197</td>\n",
       "      <td>0.66700</td>\n",
       "      <td>3017.0</td>\n",
       "      <td>0.566175</td>\n",
       "    </tr>\n",
       "  </tbody>\n",
       "</table>\n",
       "</div>"
      ],
      "text/plain": [
       "   male_percent  female_percent  0 to 15 percent  15 to 25 percent  \\\n",
       "0      0.487521        0.512479         0.154213          0.118512   \n",
       "1      0.487906        0.512094         0.156951          0.120054   \n",
       "2      0.487864        0.512136         0.154420          0.114562   \n",
       "3      0.490062        0.509938         0.169027          0.120974   \n",
       "4      0.486940        0.513060         0.131530          0.122029   \n",
       "\n",
       "   25 to 45 percent  45 to 65 percent  65 or older percent  Primary  \\\n",
       "0          0.284226          0.266767             0.176282    0.317   \n",
       "1          0.283263          0.265144             0.174588    0.308   \n",
       "2          0.282228          0.266031             0.182760    0.346   \n",
       "3          0.270043          0.268353             0.171603    0.326   \n",
       "4          0.282031          0.282719             0.181690    0.251   \n",
       "\n",
       "   Secondary  Tertiary  activity_level   Income  consumption_per_capita  \n",
       "0      0.468     0.216         0.70325  14546.0                1.061828  \n",
       "1      0.465     0.228         0.70975  14863.0                1.047127  \n",
       "2      0.428     0.227         0.71300  17045.0                1.216533  \n",
       "3      0.367     0.307         0.67650  19458.0                1.369597  \n",
       "4      0.551     0.197         0.66700   3017.0                0.566175  "
      ]
     },
     "execution_count": 23,
     "metadata": {},
     "output_type": "execute_result"
    }
   ],
   "source": [
    "unit_furniture_expense = unit_furniture_expense[['TIME','GEO','Average per piece']]\n",
    "final_furniture_expenses = pd.merge(furniture_expense,unit_furniture_expense,how='inner',on=['TIME','GEO'])\n",
    "final_furniture_expenses['Total units'] = (final_furniture_expenses['Value']/final_furniture_expenses['Average per piece'])*(1000000)\n",
    "final_furniture_consumption = final_furniture_expenses[['TIME','GEO','Total units']]\n",
    "final_data = pd.merge(final_input_data,final_furniture_consumption,how='inner',on=['TIME','GEO'])\n",
    "final_data['consumption_per_capita'] = final_data['Total units']/final_data['Total_pop']\n",
    "final_data.drop(['Total units', 'Total_pop','TIME','GEO'], axis=1, inplace=True)\n",
    "final_data.to_csv('final_input_output.csv',index=False)\n",
    "final_data.head()"
   ]
  },
  {
   "cell_type": "code",
   "execution_count": 25,
   "metadata": {},
   "outputs": [
    {
     "data": {
      "text/plain": [
       "2.29526106760642"
      ]
     },
     "execution_count": 25,
     "metadata": {},
     "output_type": "execute_result"
    }
   ],
   "source": [
    "final_data['consumption_per_capita'].max()"
   ]
  }
 ],
 "metadata": {
  "kernelspec": {
   "display_name": "Python 3",
   "language": "python",
   "name": "python3"
  },
  "language_info": {
   "codemirror_mode": {
    "name": "ipython",
    "version": 3
   },
   "file_extension": ".py",
   "mimetype": "text/x-python",
   "name": "python",
   "nbconvert_exporter": "python",
   "pygments_lexer": "ipython3",
   "version": "3.7.4"
  }
 },
 "nbformat": 4,
 "nbformat_minor": 4
}
