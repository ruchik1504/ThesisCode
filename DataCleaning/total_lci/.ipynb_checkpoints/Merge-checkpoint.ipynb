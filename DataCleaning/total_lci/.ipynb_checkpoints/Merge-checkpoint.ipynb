{
 "cells": [
  {
   "cell_type": "code",
   "execution_count": 1,
   "metadata": {},
   "outputs": [],
   "source": [
    "import pandas as pd"
   ]
  },
  {
   "cell_type": "code",
   "execution_count": 6,
   "metadata": {},
   "outputs": [],
   "source": [
    "df1 = pd.read_csv('Food/Food.csv')"
   ]
  },
  {
   "cell_type": "code",
   "execution_count": 7,
   "metadata": {},
   "outputs": [],
   "source": [
    "df2 = pd.read_csv('Energy/final_electricity_consumption.csv')\n",
    "df3 = pd.read_csv('Energy/final_gas_consumption.csv')\n",
    "df3 = df3[['Name','Gas']]\n",
    "df1 = df1.merge(df2,on=['Name'],how='inner')\n",
    "df1 = df1.merge(df3,on=['Name'],how='inner')"
   ]
  },
  {
   "cell_type": "code",
   "execution_count": 8,
   "metadata": {},
   "outputs": [],
   "source": [
    "df4 = pd.read_csv('Water/water_consumption.csv')\n",
    "df1 = df1.merge(df4,on=['Name'],how='inner')"
   ]
  },
  {
   "cell_type": "code",
   "execution_count": 9,
   "metadata": {},
   "outputs": [],
   "source": [
    "df5 = pd.read_csv('Mobility/car_km.csv')\n",
    "df6 = pd.read_csv('Mobility/train_km.csv')\n",
    "df7 = pd.read_csv('Mobility/bus_tram_km.csv')\n",
    "df1 = df1.merge(df5,on=['Name'],how='inner')\n",
    "df1 = df1.merge(df6,on=['Name'],how='inner')\n",
    "df1 = df1.merge(df7,on=['Name'],how='inner')"
   ]
  },
  {
   "cell_type": "code",
   "execution_count": 10,
   "metadata": {},
   "outputs": [],
   "source": [
    "df8 = pd.read_csv('BoP/clothes.csv')\n",
    "#df9 = pd.read_csv('BoP/Detergent.csv')\n",
    "#df10 = pd.read_csv('BoP/Footwear.csv')\n",
    "df11 = pd.read_csv('BoP/furniture.csv')\n",
    "df12 = pd.read_csv('BoP/paper.csv')\n",
    "#df13 = pd.read_csv('BoP/Personalcare.csv')\n",
    "df1 = df1.merge(df8,on=['Name'],how='inner')\n",
    "#df1 = df1.merge(df9,on=['Name'],how='inner')\n",
    "#df1 = df1.merge(df10,on=['Name'],how='inner')\n",
    "df1 = df1.merge(df11,on=['Name'],how='inner')\n",
    "df1 = df1.merge(df12,on=['Name'],how='inner')\n",
    "#df1 = df1.merge(df13,on=['Name'],how='inner')"
   ]
  },
  {
   "cell_type": "code",
   "execution_count": 11,
   "metadata": {},
   "outputs": [
    {
     "data": {
      "text/html": [
       "<div>\n",
       "<style scoped>\n",
       "    .dataframe tbody tr th:only-of-type {\n",
       "        vertical-align: middle;\n",
       "    }\n",
       "\n",
       "    .dataframe tbody tr th {\n",
       "        vertical-align: top;\n",
       "    }\n",
       "\n",
       "    .dataframe thead th {\n",
       "        text-align: right;\n",
       "    }\n",
       "</style>\n",
       "<table border=\"1\" class=\"dataframe\">\n",
       "  <thead>\n",
       "    <tr style=\"text-align: right;\">\n",
       "      <th></th>\n",
       "      <th>Name</th>\n",
       "      <th>BUURTCODE</th>\n",
       "      <th>Food</th>\n",
       "      <th>Green_electricity</th>\n",
       "      <th>nongreen_electricity</th>\n",
       "      <th>Gas</th>\n",
       "      <th>Water</th>\n",
       "      <th>Car</th>\n",
       "      <th>Train</th>\n",
       "      <th>bustram</th>\n",
       "      <th>Clothes</th>\n",
       "      <th>Furniture</th>\n",
       "      <th>Paper</th>\n",
       "    </tr>\n",
       "  </thead>\n",
       "  <tbody>\n",
       "    <tr>\n",
       "      <th>0</th>\n",
       "      <td>Archipelbuurt</td>\n",
       "      <td>46</td>\n",
       "      <td>1037.501557</td>\n",
       "      <td>10.199625</td>\n",
       "      <td>413.902612</td>\n",
       "      <td>220.514518</td>\n",
       "      <td>7.424707</td>\n",
       "      <td>2504.463035</td>\n",
       "      <td>92.912683</td>\n",
       "      <td>62.071202</td>\n",
       "      <td>31.253601</td>\n",
       "      <td>234.855685</td>\n",
       "      <td>40.847142</td>\n",
       "    </tr>\n",
       "    <tr>\n",
       "      <th>1</th>\n",
       "      <td>Arendsdorp</td>\n",
       "      <td>78</td>\n",
       "      <td>1018.181711</td>\n",
       "      <td>9.114000</td>\n",
       "      <td>381.736078</td>\n",
       "      <td>224.547556</td>\n",
       "      <td>5.636770</td>\n",
       "      <td>2291.599853</td>\n",
       "      <td>91.948663</td>\n",
       "      <td>62.229748</td>\n",
       "      <td>26.791417</td>\n",
       "      <td>260.286102</td>\n",
       "      <td>39.108915</td>\n",
       "    </tr>\n",
       "    <tr>\n",
       "      <th>2</th>\n",
       "      <td>Belgisch Park</td>\n",
       "      <td>71</td>\n",
       "      <td>1056.781010</td>\n",
       "      <td>10.917063</td>\n",
       "      <td>394.820981</td>\n",
       "      <td>194.907003</td>\n",
       "      <td>6.364744</td>\n",
       "      <td>2414.062997</td>\n",
       "      <td>95.646220</td>\n",
       "      <td>65.780035</td>\n",
       "      <td>31.507165</td>\n",
       "      <td>240.877308</td>\n",
       "      <td>37.480696</td>\n",
       "    </tr>\n",
       "    <tr>\n",
       "      <th>3</th>\n",
       "      <td>Bezuidenhout-Midden</td>\n",
       "      <td>65</td>\n",
       "      <td>1038.487410</td>\n",
       "      <td>10.794763</td>\n",
       "      <td>380.869325</td>\n",
       "      <td>197.112196</td>\n",
       "      <td>6.816836</td>\n",
       "      <td>2557.098434</td>\n",
       "      <td>91.107857</td>\n",
       "      <td>60.643537</td>\n",
       "      <td>30.431261</td>\n",
       "      <td>239.724192</td>\n",
       "      <td>36.906474</td>\n",
       "    </tr>\n",
       "    <tr>\n",
       "      <th>4</th>\n",
       "      <td>Bezuidenhout-Oost</td>\n",
       "      <td>66</td>\n",
       "      <td>1049.314747</td>\n",
       "      <td>9.596771</td>\n",
       "      <td>337.027495</td>\n",
       "      <td>195.535463</td>\n",
       "      <td>6.992629</td>\n",
       "      <td>2688.038059</td>\n",
       "      <td>91.817212</td>\n",
       "      <td>60.341539</td>\n",
       "      <td>30.910343</td>\n",
       "      <td>242.131641</td>\n",
       "      <td>40.970474</td>\n",
       "    </tr>\n",
       "  </tbody>\n",
       "</table>\n",
       "</div>"
      ],
      "text/plain": [
       "                  Name  BUURTCODE         Food  Green_electricity  \\\n",
       "0        Archipelbuurt         46  1037.501557          10.199625   \n",
       "1           Arendsdorp         78  1018.181711           9.114000   \n",
       "2        Belgisch Park         71  1056.781010          10.917063   \n",
       "3  Bezuidenhout-Midden         65  1038.487410          10.794763   \n",
       "4    Bezuidenhout-Oost         66  1049.314747           9.596771   \n",
       "\n",
       "   nongreen_electricity         Gas     Water          Car      Train  \\\n",
       "0            413.902612  220.514518  7.424707  2504.463035  92.912683   \n",
       "1            381.736078  224.547556  5.636770  2291.599853  91.948663   \n",
       "2            394.820981  194.907003  6.364744  2414.062997  95.646220   \n",
       "3            380.869325  197.112196  6.816836  2557.098434  91.107857   \n",
       "4            337.027495  195.535463  6.992629  2688.038059  91.817212   \n",
       "\n",
       "     bustram    Clothes   Furniture      Paper  \n",
       "0  62.071202  31.253601  234.855685  40.847142  \n",
       "1  62.229748  26.791417  260.286102  39.108915  \n",
       "2  65.780035  31.507165  240.877308  37.480696  \n",
       "3  60.643537  30.431261  239.724192  36.906474  \n",
       "4  60.341539  30.910343  242.131641  40.970474  "
      ]
     },
     "execution_count": 11,
     "metadata": {},
     "output_type": "execute_result"
    }
   ],
   "source": [
    "df1.head()"
   ]
  },
  {
   "cell_type": "code",
   "execution_count": 14,
   "metadata": {},
   "outputs": [],
   "source": [
    "df1.to_csv('lci_data_net.csv')"
   ]
  }
 ],
 "metadata": {
  "kernelspec": {
   "display_name": "Python 3",
   "language": "python",
   "name": "python3"
  },
  "language_info": {
   "codemirror_mode": {
    "name": "ipython",
    "version": 3
   },
   "file_extension": ".py",
   "mimetype": "text/x-python",
   "name": "python",
   "nbconvert_exporter": "python",
   "pygments_lexer": "ipython3",
   "version": "3.7.6"
  }
 },
 "nbformat": 4,
 "nbformat_minor": 4
}
