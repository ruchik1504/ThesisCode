{
 "cells": [
  {
   "cell_type": "code",
   "execution_count": 1,
   "metadata": {},
   "outputs": [],
   "source": [
    "import pandas as pd"
   ]
  },
  {
   "cell_type": "code",
   "execution_count": 2,
   "metadata": {},
   "outputs": [],
   "source": [
    "df1 = pd.read_csv('Food/Food.csv')"
   ]
  },
  {
   "cell_type": "code",
   "execution_count": 3,
   "metadata": {},
   "outputs": [],
   "source": [
    "df2 = pd.read_csv('Energy/final_electricity_consumption.csv')\n",
    "df3 = pd.read_csv('Energy/final_gas_consumption.csv')\n",
    "df3 = df3[['Name','Gas']]\n",
    "df1 = df1.merge(df2,on=['Name'],how='inner')\n",
    "df1 = df1.merge(df3,on=['Name'],how='inner')"
   ]
  },
  {
   "cell_type": "code",
   "execution_count": 4,
   "metadata": {},
   "outputs": [],
   "source": [
    "df4 = pd.read_csv('Water/water_consumption.csv')\n",
    "df1 = df1.merge(df4,on=['Name'],how='inner')"
   ]
  },
  {
   "cell_type": "code",
   "execution_count": 5,
   "metadata": {},
   "outputs": [],
   "source": [
    "df5 = pd.read_csv('Mobility/car_km.csv')\n",
    "df6 = pd.read_csv('Mobility/train_km.csv')\n",
    "df7 = pd.read_csv('Mobility/bus_tram_km.csv')\n",
    "df1 = df1.merge(df5,on=['Name'],how='inner')\n",
    "df1 = df1.merge(df6,on=['Name'],how='inner')\n",
    "df1 = df1.merge(df7,on=['Name'],how='inner')"
   ]
  },
  {
   "cell_type": "code",
   "execution_count": 6,
   "metadata": {},
   "outputs": [],
   "source": [
    "df8 = pd.read_csv('BoP/clothes.csv')\n",
    "df9 = pd.read_csv('BoP/Detergent.csv')\n",
    "df10 = pd.read_csv('BoP/Footwear.csv')\n",
    "df11 = pd.read_csv('BoP/furniture.csv')\n",
    "df12 = pd.read_csv('BoP/paper.csv')\n",
    "df13 = pd.read_csv('BoP/Personalcare.csv')\n",
    "df1 = df1.merge(df8,on=['Name'],how='inner')\n",
    "df1 = df1.merge(df9,on=['Name'],how='inner')\n",
    "df1 = df1.merge(df10,on=['Name'],how='inner')\n",
    "df1 = df1.merge(df11,on=['Name'],how='inner')\n",
    "df1 = df1.merge(df12,on=['Name'],how='inner')\n",
    "df1 = df1.merge(df13,on=['Name'],how='inner')"
   ]
  },
  {
   "cell_type": "code",
   "execution_count": 10,
   "metadata": {},
   "outputs": [],
   "source": [
    "df14 = pd.read_csv('Waste/waste.csv')\n",
    "df14['GWP per capita'] = df14['GWP per capita']*(1.25516)/(-0.5478) \n",
    "df14['GWP per household'] = df14['GWP per household']*(1.25516)/(-0.5478) \n",
    "df1 = df1.merge(df14,on=['Name'],how='inner')"
   ]
  },
  {
   "cell_type": "code",
   "execution_count": 11,
   "metadata": {},
   "outputs": [],
   "source": [
    "df1.to_csv('lci_data_net.csv',index=False)"
   ]
  }
 ],
 "metadata": {
  "kernelspec": {
   "display_name": "Python 3",
   "language": "python",
   "name": "python3"
  },
  "language_info": {
   "codemirror_mode": {
    "name": "ipython",
    "version": 3
   },
   "file_extension": ".py",
   "mimetype": "text/x-python",
   "name": "python",
   "nbconvert_exporter": "python",
   "pygments_lexer": "ipython3",
   "version": "3.7.6"
  }
 },
 "nbformat": 4,
 "nbformat_minor": 4
}
