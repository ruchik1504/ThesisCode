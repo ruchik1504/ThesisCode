{
 "cells": [
  {
   "cell_type": "code",
   "execution_count": 1,
   "metadata": {},
   "outputs": [],
   "source": [
    "import pandas as pd\n",
    "import numpy as np\n",
    "import matplotlib.pyplot as plt"
   ]
  },
  {
   "cell_type": "code",
   "execution_count": 16,
   "metadata": {},
   "outputs": [],
   "source": [
    "predictors = pd.read_csv('C:/Users/patel/Thesis/DataCleaning/Food/RF/inputdata.csv')\n",
    "predicted = pd.read_csv('Fish_consume.csv')\n",
    "predicted = predicted[predicted['FISHREG']=='Total fishing areas']"
   ]
  },
  {
   "cell_type": "code",
   "execution_count": 17,
   "metadata": {},
   "outputs": [],
   "source": [
    "predicted = predicted[['TIME','GEO','SPECIES','Value']]\n",
    "typeof = 'SPECIES'\n",
    "predicted_reformat = pd.DataFrame()\n",
    "number_of_col = 1\n",
    "for type_unique in predicted[typeof].unique():\n",
    "    if (number_of_col == 1):\n",
    "        predicted_unique = predicted[predicted[typeof]==type_unique]\n",
    "        predicted_reformat['TIME'] = predicted_unique['TIME']\n",
    "        predicted_reformat['GEO'] = predicted_unique['GEO']\n",
    "        predicted_unique['Value'].replace({\":\":0}, inplace=True) \n",
    "        predicted_reformat[type_unique] = predicted_unique['Value'].replace({' ':''},regex=True).astype('float')\n",
    "        predicted_reformat = predicted_reformat[predicted_reformat[type_unique] != 0]\n",
    "        number_of_col = number_of_col + 1\n",
    "    else:\n",
    "        predicted_unique = predicted[predicted[typeof]==type_unique]\n",
    "        predicted_unique['Value'].replace({\":\":0}, inplace=True) \n",
    "        predicted_unique['Value'].replace({\":\":0}, inplace=True) \n",
    "        predicted_unique[type_unique] = predicted_unique['Value'].replace({' ':''},regex=True).astype('float')\n",
    "        predicted_unique = predicted_unique[predicted_unique[type_unique] != 0]\n",
    "        predicted_reformat = predicted_reformat.merge(predicted_unique[['TIME','GEO',type_unique]],on=['TIME','GEO'],how='inner')\n",
    "predicted_reformat['Total_consumed'] = predicted_reformat.iloc[:,2:].sum(axis=1)\n",
    "predicted_reformat = predicted_reformat[['TIME','GEO','Total_consumed']]\n",
    "predicted_reformat=predicted_reformat[((predicted_reformat['Total_consumed'] - predicted_reformat['Total_consumed'].mean()) / predicted_reformat['Total_consumed'].std()).abs() < 2]\n",
    "input_output = pd.merge(predictors,predicted_reformat,on=['TIME','GEO'],how='inner')\n"
   ]
  },
  {
   "cell_type": "code",
   "execution_count": 18,
   "metadata": {},
   "outputs": [],
   "source": [
    "input_output['Per capita consumption'] = input_output['Total_consumed']*1000/input_output['Total_pop']\n",
    "final_input_output = input_output.drop(['Total_pop','Total_consumed'],axis=1)\n",
    "final_input_output=final_input_output[((final_input_output['Per capita consumption'] - final_input_output['Per capita consumption'].mean()) / final_input_output['Per capita consumption'].std()).abs() < 2]\n",
    "final_input_output.to_csv('final_input_output.csv',index=False)"
   ]
  }
 ],
 "metadata": {
  "kernelspec": {
   "display_name": "Python 3",
   "language": "python",
   "name": "python3"
  },
  "language_info": {
   "codemirror_mode": {
    "name": "ipython",
    "version": 3
   },
   "file_extension": ".py",
   "mimetype": "text/x-python",
   "name": "python",
   "nbconvert_exporter": "python",
   "pygments_lexer": "ipython3",
   "version": "3.7.4"
  }
 },
 "nbformat": 4,
 "nbformat_minor": 4
}
