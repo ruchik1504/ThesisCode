{
 "cells": [
  {
   "cell_type": "code",
   "execution_count": 1,
   "metadata": {},
   "outputs": [],
   "source": [
    "import pandas as pd\n",
    "import numpy as np\n",
    "import matplotlib.pyplot as plt"
   ]
  },
  {
   "cell_type": "code",
   "execution_count": 5,
   "metadata": {},
   "outputs": [],
   "source": [
    "predictors = pd.read_csv('C:/Users/patel/Thesis/DataCleaning/Food/RF/inputdata.csv')\n",
    "predicted = pd.read_csv('Milk_consume.csv')\n",
    "predicted = predicted[predicted['MILKITEM']== 'Products obtained (1 000 t)']"
   ]
  },
  {
   "cell_type": "code",
   "execution_count": 6,
   "metadata": {},
   "outputs": [
    {
     "data": {
      "text/html": [
       "<div>\n",
       "<style scoped>\n",
       "    .dataframe tbody tr th:only-of-type {\n",
       "        vertical-align: middle;\n",
       "    }\n",
       "\n",
       "    .dataframe tbody tr th {\n",
       "        vertical-align: top;\n",
       "    }\n",
       "\n",
       "    .dataframe thead th {\n",
       "        text-align: right;\n",
       "    }\n",
       "</style>\n",
       "<table border=\"1\" class=\"dataframe\">\n",
       "  <thead>\n",
       "    <tr style=\"text-align: right;\">\n",
       "      <th></th>\n",
       "      <th>TIME</th>\n",
       "      <th>GEO</th>\n",
       "      <th>DAIRYPROD</th>\n",
       "      <th>MILKITEM</th>\n",
       "      <th>Value</th>\n",
       "      <th>Flag and Footnotes</th>\n",
       "    </tr>\n",
       "  </thead>\n",
       "  <tbody>\n",
       "    <tr>\n",
       "      <td>0</td>\n",
       "      <td>2009</td>\n",
       "      <td>European Union - 27 countries (from 2020)</td>\n",
       "      <td>Fresh products</td>\n",
       "      <td>Products obtained (1 000 t)</td>\n",
       "      <td>:</td>\n",
       "      <td>c</td>\n",
       "    </tr>\n",
       "    <tr>\n",
       "      <td>5</td>\n",
       "      <td>2009</td>\n",
       "      <td>European Union - 27 countries (from 2020)</td>\n",
       "      <td>Manufactured products</td>\n",
       "      <td>Products obtained (1 000 t)</td>\n",
       "      <td>:</td>\n",
       "      <td>c</td>\n",
       "    </tr>\n",
       "    <tr>\n",
       "      <td>10</td>\n",
       "      <td>2009</td>\n",
       "      <td>European Union - 28 countries (2013-2020)</td>\n",
       "      <td>Fresh products</td>\n",
       "      <td>Products obtained (1 000 t)</td>\n",
       "      <td>:</td>\n",
       "      <td>c</td>\n",
       "    </tr>\n",
       "    <tr>\n",
       "      <td>15</td>\n",
       "      <td>2009</td>\n",
       "      <td>European Union - 28 countries (2013-2020)</td>\n",
       "      <td>Manufactured products</td>\n",
       "      <td>Products obtained (1 000 t)</td>\n",
       "      <td>:</td>\n",
       "      <td>c</td>\n",
       "    </tr>\n",
       "    <tr>\n",
       "      <td>20</td>\n",
       "      <td>2009</td>\n",
       "      <td>Belgium</td>\n",
       "      <td>Fresh products</td>\n",
       "      <td>Products obtained (1 000 t)</td>\n",
       "      <td>:</td>\n",
       "      <td>c</td>\n",
       "    </tr>\n",
       "  </tbody>\n",
       "</table>\n",
       "</div>"
      ],
      "text/plain": [
       "    TIME                                        GEO              DAIRYPROD  \\\n",
       "0   2009  European Union - 27 countries (from 2020)         Fresh products   \n",
       "5   2009  European Union - 27 countries (from 2020)  Manufactured products   \n",
       "10  2009  European Union - 28 countries (2013-2020)         Fresh products   \n",
       "15  2009  European Union - 28 countries (2013-2020)  Manufactured products   \n",
       "20  2009                                    Belgium         Fresh products   \n",
       "\n",
       "                       MILKITEM Value Flag and Footnotes  \n",
       "0   Products obtained (1 000 t)     :                  c  \n",
       "5   Products obtained (1 000 t)     :                  c  \n",
       "10  Products obtained (1 000 t)     :                  c  \n",
       "15  Products obtained (1 000 t)     :                  c  \n",
       "20  Products obtained (1 000 t)     :                  c  "
      ]
     },
     "execution_count": 6,
     "metadata": {},
     "output_type": "execute_result"
    }
   ],
   "source": [
    "predicted.head()"
   ]
  },
  {
   "cell_type": "code",
   "execution_count": 7,
   "metadata": {},
   "outputs": [
    {
     "name": "stderr",
     "output_type": "stream",
     "text": [
      "C:\\Users\\patel\\Anaconda3\\lib\\site-packages\\pandas\\core\\generic.py:6786: SettingWithCopyWarning: \n",
      "A value is trying to be set on a copy of a slice from a DataFrame\n",
      "\n",
      "See the caveats in the documentation: http://pandas.pydata.org/pandas-docs/stable/user_guide/indexing.html#returning-a-view-versus-a-copy\n",
      "  self._update_inplace(new_data)\n",
      "C:\\Users\\patel\\Anaconda3\\lib\\site-packages\\ipykernel_launcher.py:18: SettingWithCopyWarning: \n",
      "A value is trying to be set on a copy of a slice from a DataFrame.\n",
      "Try using .loc[row_indexer,col_indexer] = value instead\n",
      "\n",
      "See the caveats in the documentation: http://pandas.pydata.org/pandas-docs/stable/user_guide/indexing.html#returning-a-view-versus-a-copy\n"
     ]
    }
   ],
   "source": [
    "predicted = predicted[['TIME','GEO','DAIRYPROD','Value']]\n",
    "typeof = 'DAIRYPROD'\n",
    "predicted_reformat = pd.DataFrame()\n",
    "number_of_col = 1\n",
    "for type_unique in predicted[typeof].unique():\n",
    "    if (number_of_col == 1):\n",
    "        predicted_unique = predicted[predicted[typeof]==type_unique]\n",
    "        predicted_reformat['TIME'] = predicted_unique['TIME']\n",
    "        predicted_reformat['GEO'] = predicted_unique['GEO']\n",
    "        predicted_unique['Value'].replace({\":\":0}, inplace=True) \n",
    "        predicted_reformat[type_unique] = predicted_unique['Value'].replace({' ':''},regex=True).astype('float')\n",
    "        predicted_reformat = predicted_reformat[predicted_reformat[type_unique] != 0]\n",
    "        number_of_col = number_of_col + 1\n",
    "    else:\n",
    "        predicted_unique = predicted[predicted[typeof]==type_unique]\n",
    "        predicted_unique['Value'].replace({\":\":0}, inplace=True) \n",
    "        predicted_unique['Value'].replace({\":\":0}, inplace=True) \n",
    "        predicted_unique[type_unique] = predicted_unique['Value'].replace({' ':''},regex=True).astype('float')\n",
    "        predicted_unique = predicted_unique[predicted_unique[type_unique] != 0]\n",
    "        predicted_reformat = predicted_reformat.merge(predicted_unique[['TIME','GEO',type_unique]],on=['TIME','GEO'],how='inner')\n",
    "predicted_reformat['Total_consumed'] = predicted_reformat.iloc[:,2:].sum(axis=1)\n",
    "predicted_reformat = predicted_reformat[['TIME','GEO','Total_consumed']]\n",
    "predicted_reformat=predicted_reformat[((predicted_reformat['Total_consumed'] - predicted_reformat['Total_consumed'].mean()) / predicted_reformat['Total_consumed'].std()).abs() < 2]\n",
    "input_output = pd.merge(predictors,predicted_reformat,on=['TIME','GEO'],how='inner')\n"
   ]
  },
  {
   "cell_type": "code",
   "execution_count": 8,
   "metadata": {},
   "outputs": [],
   "source": [
    "input_output['Per capita consumption'] = input_output['Total_consumed']*1000000/input_output['Total_pop']\n",
    "final_input_output = input_output.drop(['Total_pop','Total_consumed'],axis=1)\n",
    "final_input_output=final_input_output[((final_input_output['Per capita consumption'] - final_input_output['Per capita consumption'].mean()) / final_input_output['Per capita consumption'].std()).abs() < 2]\n",
    "final_input_output.to_csv('final_input_output.csv',index=False)"
   ]
  }
 ],
 "metadata": {
  "kernelspec": {
   "display_name": "Python 3",
   "language": "python",
   "name": "python3"
  },
  "language_info": {
   "codemirror_mode": {
    "name": "ipython",
    "version": 3
   },
   "file_extension": ".py",
   "mimetype": "text/x-python",
   "name": "python",
   "nbconvert_exporter": "python",
   "pygments_lexer": "ipython3",
   "version": "3.7.4"
  }
 },
 "nbformat": 4,
 "nbformat_minor": 4
}
