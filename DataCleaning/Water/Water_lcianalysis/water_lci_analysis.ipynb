{
 "cells": [
  {
   "cell_type": "code",
   "execution_count": 1,
   "metadata": {},
   "outputs": [],
   "source": [
    "import pandas as pd\n",
    "import matplotlib.pyplot as plt\n",
    "import numpy as np"
   ]
  },
  {
   "cell_type": "code",
   "execution_count": 9,
   "metadata": {},
   "outputs": [],
   "source": [
    "hague_data = pd.read_excel('Hague_data.xlsx')\n",
    "water_lci = pd.read_csv('water_consumption.csv')"
   ]
  },
  {
   "cell_type": "code",
   "execution_count": 15,
   "metadata": {},
   "outputs": [
    {
     "data": {
      "text/html": [
       "<div>\n",
       "<style scoped>\n",
       "    .dataframe tbody tr th:only-of-type {\n",
       "        vertical-align: middle;\n",
       "    }\n",
       "\n",
       "    .dataframe tbody tr th {\n",
       "        vertical-align: top;\n",
       "    }\n",
       "\n",
       "    .dataframe thead th {\n",
       "        text-align: right;\n",
       "    }\n",
       "</style>\n",
       "<table border=\"1\" class=\"dataframe\">\n",
       "  <thead>\n",
       "    <tr style=\"text-align: right;\">\n",
       "      <th></th>\n",
       "      <th>Name</th>\n",
       "      <th>type</th>\n",
       "      <th>Water consumption</th>\n",
       "      <th>Household size</th>\n",
       "      <th>BUURTCODE</th>\n",
       "      <th>water_per_capita</th>\n",
       "      <th>GWP per capita</th>\n",
       "      <th>Population</th>\n",
       "      <th>Income per capita</th>\n",
       "    </tr>\n",
       "  </thead>\n",
       "  <tbody>\n",
       "    <tr>\n",
       "      <th>0</th>\n",
       "      <td>Voorhout</td>\n",
       "      <td>Buurt</td>\n",
       "      <td>71.610894</td>\n",
       "      <td>1.418675</td>\n",
       "      <td>12</td>\n",
       "      <td>50.477318</td>\n",
       "      <td>8.778006</td>\n",
       "      <td>2355</td>\n",
       "      <td>47000.0</td>\n",
       "    </tr>\n",
       "    <tr>\n",
       "      <th>1</th>\n",
       "      <td>Willemspark</td>\n",
       "      <td>Buurt</td>\n",
       "      <td>74.055820</td>\n",
       "      <td>1.602151</td>\n",
       "      <td>47</td>\n",
       "      <td>46.222760</td>\n",
       "      <td>8.038138</td>\n",
       "      <td>1490</td>\n",
       "      <td>47300.0</td>\n",
       "    </tr>\n",
       "    <tr>\n",
       "      <th>2</th>\n",
       "      <td>Zuiderpark</td>\n",
       "      <td>Buurt</td>\n",
       "      <td>58.615337</td>\n",
       "      <td>1.333333</td>\n",
       "      <td>36</td>\n",
       "      <td>43.961503</td>\n",
       "      <td>7.644905</td>\n",
       "      <td>160</td>\n",
       "      <td>19200.0</td>\n",
       "    </tr>\n",
       "    <tr>\n",
       "      <th>3</th>\n",
       "      <td>Zorgvliet</td>\n",
       "      <td>Buurt</td>\n",
       "      <td>83.719613</td>\n",
       "      <td>1.923077</td>\n",
       "      <td>41</td>\n",
       "      <td>43.534199</td>\n",
       "      <td>7.570597</td>\n",
       "      <td>500</td>\n",
       "      <td>70100.0</td>\n",
       "    </tr>\n",
       "    <tr>\n",
       "      <th>4</th>\n",
       "      <td>Rivierenbuurt-Zuid</td>\n",
       "      <td>Buurt</td>\n",
       "      <td>59.102031</td>\n",
       "      <td>1.382114</td>\n",
       "      <td>62</td>\n",
       "      <td>42.762058</td>\n",
       "      <td>7.436322</td>\n",
       "      <td>850</td>\n",
       "      <td>18400.0</td>\n",
       "    </tr>\n",
       "  </tbody>\n",
       "</table>\n",
       "</div>"
      ],
      "text/plain": [
       "                 Name   type  Water consumption  Household size  BUURTCODE  \\\n",
       "0            Voorhout  Buurt          71.610894        1.418675         12   \n",
       "1         Willemspark  Buurt          74.055820        1.602151         47   \n",
       "2          Zuiderpark  Buurt          58.615337        1.333333         36   \n",
       "3           Zorgvliet  Buurt          83.719613        1.923077         41   \n",
       "4  Rivierenbuurt-Zuid  Buurt          59.102031        1.382114         62   \n",
       "\n",
       "   water_per_capita  GWP per capita  Population  Income per capita  \n",
       "0         50.477318        8.778006        2355            47000.0  \n",
       "1         46.222760        8.038138        1490            47300.0  \n",
       "2         43.961503        7.644905         160            19200.0  \n",
       "3         43.534199        7.570597         500            70100.0  \n",
       "4         42.762058        7.436322         850            18400.0  "
      ]
     },
     "execution_count": 15,
     "metadata": {},
     "output_type": "execute_result"
    }
   ],
   "source": [
    "hague_data = hague_data[[\"Naam van het gebied\",\"Aantal inwoners\",'Gemiddeld inkomen per inwoner ']]\n",
    "hague_data.columns = ['Name','Population','Income per capita']\n",
    "water_lci = water_lci.merge(hague_data,on=['Name'],how='inner')\n",
    "water_lci.head()"
   ]
  },
  {
   "cell_type": "code",
   "execution_count": 13,
   "metadata": {},
   "outputs": [
    {
     "data": {
      "image/png": "[encoded data removed]",
      "text/plain": [
       "<Figure size 864x432 with 1 Axes>"
      ]
     },
     "metadata": {
      "needs_background": "light"
     },
     "output_type": "display_data"
    }
   ],
   "source": [
    "water_lci = water_lci.sort_values(by=['GWP per capita'],ascending=False)\n",
    "water_lci = water_lci.reset_index(drop=True)\n",
    "buurts = water_lci.loc[0:10,'Name']\n",
    "env_impact = water_lci.loc[0:10,'GWP per capita']\n",
    "plt.figure(figsize=(12,6))\n",
    "ax=plt.axes()\n",
    "plt.bar(buurts,env_impact,width=0.3)\n",
    "plt.xlabel('Buurts',fontsize=15)\n",
    "plt.ylabel(r'Total Environmental impact in kg-CO$_2$ equivalent per year',fontsize=11)\n",
    "#plt.ylim(0,1300)\n",
    "#plt.xlim(0,20)\n",
    "plt.xticks(rotation=90)\n",
    "plt.yticks(fontsize=14)\n",
    "ax.set_facecolor('lightgray')"
   ]
  },
  {
   "cell_type": "code",
   "execution_count": 17,
   "metadata": {},
   "outputs": [],
   "source": [
    "env_impacts = ['GWP per capita']\n",
    "curr_impact = 0\n",
    "averaged_impact = []\n",
    "population = 0\n",
    "for impact in env_impacts:\n",
    "    for i in range(0,len(water_lci)):\n",
    "        curr_impact = curr_impact + (water_lci.loc[i,impact]*water_lci.loc[i,'Population'])\n",
    "        population = population + water_lci.loc[i,'Population']\n",
    "    average = curr_impact/population\n",
    "    averaged_impact.append(average)\n",
    "    curr_impact=0\n",
    "    population = 0"
   ]
  },
  {
   "cell_type": "code",
   "execution_count": 18,
   "metadata": {},
   "outputs": [
    {
     "data": {
      "text/plain": [
       "[5.692949189140509]"
      ]
     },
     "execution_count": 18,
     "metadata": {},
     "output_type": "execute_result"
    }
   ],
   "source": [
    "averaged_impact"
   ]
  }
 ],
 "metadata": {
  "kernelspec": {
   "display_name": "Python 3",
   "language": "python",
   "name": "python3"
  },
  "language_info": {
   "codemirror_mode": {
    "name": "ipython",
    "version": 3
   },
   "file_extension": ".py",
   "mimetype": "text/x-python",
   "name": "python",
   "nbconvert_exporter": "python",
   "pygments_lexer": "ipython3",
   "version": "3.7.6"
  }
 },
 "nbformat": 4,
 "nbformat_minor": 4
}
