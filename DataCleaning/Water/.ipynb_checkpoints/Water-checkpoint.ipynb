{
 "cells": [
  {
   "cell_type": "code",
   "execution_count": 1,
   "metadata": {},
   "outputs": [],
   "source": [
    "import pandas as pd\n",
    "import numpy as np \n",
    "import math as math"
   ]
  },
  {
   "cell_type": "code",
   "execution_count": 2,
   "metadata": {},
   "outputs": [],
   "source": [
    "buurt_data = pd.read_excel('Hague_cijfers.xlsx',sheet_name='Meest-recent')"
   ]
  },
  {
   "cell_type": "code",
   "execution_count": 3,
   "metadata": {},
   "outputs": [],
   "source": [
    "hague_house = pd.read_excel('House areas.xlsx')"
   ]
  },
  {
   "cell_type": "code",
   "execution_count": 4,
   "metadata": {},
   "outputs": [],
   "source": [
    "buurt_data.rename(columns = {'Soort regio':'type','Naam van het gebied':'Name'}, inplace = True) "
   ]
  },
  {
   "cell_type": "code",
   "execution_count": 5,
   "metadata": {},
   "outputs": [],
   "source": [
    "hague_house.columns = ['Wijk no', 'Area Total']\n",
    "hague_house = hague_house[1:len(hague_house)]"
   ]
  },
  {
   "cell_type": "code",
   "execution_count": 6,
   "metadata": {},
   "outputs": [],
   "source": [
    "wijk = ''\n",
    "buurt_data['Nearest wijk'] = 'Den Haag'\n",
    "for i in range (0,len(buurt_data)):\n",
    "    if (buurt_data.loc[i,'type'] == 'Wijk'):\n",
    "        wijk = buurt_data.loc[i,'Name']\n",
    "    buurt_data.loc[i,'Nearest wijk'] = wijk\n",
    "buurt_data['Wijk no'] = buurt_data['Nearest wijk'].str.split(\" \",n=2,expand=True)[1]"
   ]
  },
  {
   "cell_type": "code",
   "execution_count": 7,
   "metadata": {},
   "outputs": [],
   "source": [
    "hague_house['Wijk no'] = hague_house['Wijk no'].str.split(\" \",n = 1, expand = True)[0]\n",
    "buurt_data_with_area = buurt_data.merge(hague_house,on=['Wijk no'])\n",
    "buurt_data_with_area['Area Total'].fillna((buurt_data_with_area['Area Total'].mean()), inplace=True)"
   ]
  },
  {
   "cell_type": "code",
   "execution_count": 8,
   "metadata": {},
   "outputs": [
    {
     "name": "stderr",
     "output_type": "stream",
     "text": [
      "C:\\Users\\patel\\Anaconda3\\lib\\site-packages\\ipykernel_launcher.py:4: RuntimeWarning: divide by zero encountered in double_scalars\n",
      "  after removing the cwd from sys.path.\n"
     ]
    }
   ],
   "source": [
    "average_area = 0\n",
    "for i in range (0,len(buurt_data_with_area)):\n",
    "    if (buurt_data_with_area.loc[i,'type'] == 'Wijk'):\n",
    "        average_area = buurt_data_with_area.loc[i,'Area Total']/buurt_data_with_area.loc[i,'Huishoudens totaal']\n",
    "    buurt_data_with_area.loc[i,'Average area'] = average_area\n",
    "buurt_data['Wijk no'] = buurt_data['Nearest wijk'].str.split(\" \",n=2,expand=True)[1]"
   ]
  },
  {
   "cell_type": "code",
   "execution_count": 9,
   "metadata": {},
   "outputs": [],
   "source": [
    "buurt_data_with_area['Total children'] = buurt_data_with_area['0 tot 15 jaar'] + (0.3*buurt_data_with_area['15 tot 25 jaar'])\n",
    "buurt_data_with_area['Total adults'] = buurt_data_with_area['Aantal inwoners']-buurt_data_with_area['Total children']\n",
    "buurt_data_with_area['Average kids'] = buurt_data_with_area['Total children']/buurt_data_with_area['Huishoudens totaal'] \n",
    "buurt_data_with_area['Average adults'] = buurt_data_with_area['Total adults']/buurt_data_with_area['Huishoudens totaal']\n",
    "#buurt_data_with_area['Average area'] = buurt_data_with_area['Area Total']/buurt_data_with_area['Huishoudens totaal']\n",
    "buurt_data_with_area['Average age'] = ((7.5*buurt_data_with_area['0 tot 15 jaar'])+ (20*buurt_data_with_area['15 tot 25 jaar'])+ \\\n",
    "                                      (35*buurt_data_with_area['25 tot 45 jaar'])+ (55*buurt_data_with_area['45 tot 65 jaar'])+ \\\n",
    "                                      (73.5*buurt_data_with_area['65 jaar of ouder']))/(buurt_data_with_area['Aantal inwoners'])\n",
    "buurt_data_with_area['Efficient flush'] = 0.2\n",
    "rate_of_water = 1.07\n",
    "buurt_data_with_area['Household income'] = buurt_data_with_area['Gemiddeld inkomen per inwoner ']*buurt_data_with_area['Gemiddelde huishoudensgrootte']\n",
    "buurt_data_with_area = buurt_data_with_area[['Name','type','Codering','Aantal inwoners','Average adults','Average kids','Average age','Efficient flush','Household income',\n",
    "                                            'Average area']]\n",
    "#buurt_data_with_area = buurt_data_with_area.dropna()\n",
    "buurt_data_with_area = buurt_data_with_area.reset_index(drop=True)"
   ]
  },
  {
   "cell_type": "code",
   "execution_count": 10,
   "metadata": {},
   "outputs": [],
   "source": [
    "buurt_data_with_area.fillna((buurt_data_with_area.mean()), inplace=True)"
   ]
  },
  {
   "cell_type": "code",
   "execution_count": 11,
   "metadata": {},
   "outputs": [],
   "source": [
    "coeff_income = 0.201\n",
    "coeff_adults = 0.148\n",
    "coeff_children = 0.082\n",
    "coeff_area = 0.013\n",
    "coeff_age = 0.004\n",
    "coeff_efficiency = -0.067\n",
    "coeff_price = -0.275\n",
    "coeff_constant = 2.001\n",
    "price = math.log(rate_of_water)\n",
    "for i in range (1,len(buurt_data_with_area)):\n",
    "    income = math.log(buurt_data_with_area.loc[i,'Household income'])\n",
    "    efficient_flush = buurt_data_with_area.loc[i,'Efficient flush']\n",
    "    average_age = buurt_data_with_area.loc[i,'Average age'] \n",
    "    average_area = math.log(buurt_data_with_area.loc[i,'Average area'])\n",
    "    number_of_children = buurt_data_with_area.loc[i,'Average kids']\n",
    "    number_of_adults = buurt_data_with_area.loc[i,'Average adults']\n",
    "#    ln_of_consumption = coeff_constant + (coeff_income*income) + (coeff_adults*number_of_adults) + (coeff_children*number_of_children) + (coeff_area*average_area) + (coeff_age*average_age) + (coeff_efficiency*efficient_flush) + (coeff_price*price)\n",
    "    ln_of_consumption = coeff_constant + (coeff_income*income) + (coeff_area*average_area) + (coeff_price*price)\n",
    "    buurt_data_with_area.loc[i,'Water consumption'] = math.exp(ln_of_consumption)"
   ]
  },
  {
   "cell_type": "code",
   "execution_count": 12,
   "metadata": {},
   "outputs": [],
   "source": [
    "buurt_data_with_area = buurt_data_with_area.replace([np.inf, -np.inf], np.nan)\n",
    "buurt_data_with_area=buurt_data_with_area.dropna()\n",
    "buurt_data_with_area = buurt_data_with_area.reset_index(drop=True)"
   ]
  },
  {
   "cell_type": "code",
   "execution_count": 13,
   "metadata": {},
   "outputs": [],
   "source": [
    "buurt_data_with_area = buurt_data_with_area[['Name','type','Average adults','Average kids','Water consumption']]\n",
    "buurt_data_with_area['Household size'] = buurt_data_with_area['Average adults'] + buurt_data_with_area['Average kids']\n",
    "buurt_data_with_area = buurt_data_with_area[['Name','type','Water consumption','Household size']]\n",
    "#buurt_data_with_area.columns = ['Name','type','Population','Water consumption']\n",
    "codes = pd.read_csv('C:/Users/patel/Thesis/DataCleaning/GivingBuurtCodes/buurt_codes.csv')\n",
    "codes.rename(columns={'BUURTNAAM':'Name'},inplace=True)\n",
    "codes = codes[['Name','BUURTCODE']]\n",
    "final_water = buurt_data_with_area.merge(codes,on=['Name'],how='inner')\n",
    "final_water.to_csv('water_consumption.csv',index=False)"
   ]
  }
 ],
 "metadata": {
  "kernelspec": {
   "display_name": "Python 3",
   "language": "python",
   "name": "python3"
  },
  "language_info": {
   "codemirror_mode": {
    "name": "ipython",
    "version": 3
   },
   "file_extension": ".py",
   "mimetype": "text/x-python",
   "name": "python",
   "nbconvert_exporter": "python",
   "pygments_lexer": "ipython3",
   "version": "3.7.4"
  }
 },
 "nbformat": 4,
 "nbformat_minor": 4
}
