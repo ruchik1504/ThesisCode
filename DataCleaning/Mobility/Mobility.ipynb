{
 "cells": [
  {
   "cell_type": "code",
   "execution_count": 1,
   "metadata": {},
   "outputs": [],
   "source": [
    "import pandas as pd\n",
    "import numpy as np"
   ]
  },
  {
   "cell_type": "code",
   "execution_count": 21,
   "metadata": {},
   "outputs": [],
   "source": [
    "male_mob = pd.read_csv('Male.csv')\n",
    "female_mob = pd.read_csv('Female.csv')"
   ]
  },
  {
   "cell_type": "code",
   "execution_count": 22,
   "metadata": {},
   "outputs": [],
   "source": [
    "male_mob = male_mob[['Transport ','Total.1','Passenger car (driver).1','Passenger car (passenger).1','Train.1','Bus / tram / metro.1','Bike.1','walk.1','Other mode of transport.1']]\n",
    "female_mob = female_mob[['Transport ','Total.1','Passenger car (driver).1','Passenger car (passenger).1','Train.1','Bus / tram / metro.1','Bike.1','walk.1','Other mode of transport.1']]"
   ]
  },
  {
   "cell_type": "code",
   "execution_count": 23,
   "metadata": {},
   "outputs": [],
   "source": [
    "buurt_data = pd.read_excel('Hague_cijfers.xlsx',sheet_name='Meest-recent')\n",
    "buurt_data = buurt_data[['Naam van het gebied', 'Soort regio', 'Codering', 'Aantal inwoners',\n",
    "       'Mannen', 'Vrouwen', '0 tot 15 jaar', '15 tot 25 jaar',\n",
    "       '25 tot 45 jaar', '45 tot 65 jaar','65 jaar of ouder']]\n",
    "#buurt_data.head()\n",
    "#buurt_data = buurt_data[['Naam van het gebied','Soort regio','Codering','Aantal inwoners','Mannen','Vrouwen','0 tot 15 jaar',\n",
    "#                        '15 tot 25 jaar']]\n",
    "buurt_data.columns = ['Name','type','code','Population','Man','Woman','0 to 15 year','15 to 25 year','25 to 45 year','45 to 65 year','65 year or older']\n",
    "buurt_data = buurt_data.reset_index(drop=True)\n",
    "wijk = ''\n",
    "buurt_data['Nearest wijk'] = 'Den Haag'\n",
    "for i in range (0,len(buurt_data)):\n",
    "    if (buurt_data.loc[i,'type'] == 'Wijk'):\n",
    "        wijk = buurt_data.loc[i,'Name']\n",
    "    buurt_data.loc[i,'Nearest wijk'] = wijk\n",
    "buurt_data['Wijk no'] = buurt_data['Nearest wijk'].str.split(\" \",n=2,expand=True)[1]"
   ]
  },
  {
   "cell_type": "code",
   "execution_count": 24,
   "metadata": {},
   "outputs": [],
   "source": [
    "buurt_data['6 to 12 year'] = buurt_data['0 to 15 year']*(6/15)\n",
    "buurt_data['12 to 18 year'] = buurt_data['0 to 15 year']*(3/15) + buurt_data['15 to 25 year']*(3/10)\n",
    "buurt_data['18 to 25 year'] = buurt_data['15 to 25 year']*(7/10) \n",
    "buurt_data['25 to 35 year'] = buurt_data['25 to 45 year']*(1/2) \n",
    "buurt_data['35 to 50 year'] = buurt_data['25 to 45 year']*(1/2) + buurt_data['45 to 65 year']*(1/4)\n",
    "buurt_data['50 to 65 year'] = buurt_data['45 to 65 year']*(3/4) \n",
    "buurt_data['65 to 75 year'] = buurt_data['65 year or older']*(10/16) \n",
    "buurt_data['75 or older'] = buurt_data['65 year or older']*(6/16) \n",
    "buurt_data['6 to 12 man'] = buurt_data['6 to 12 year']*buurt_data['Man']/buurt_data['Population']\n",
    "buurt_data['12 to 18 man'] = buurt_data['12 to 18 year']*buurt_data['Man']/buurt_data['Population']\n",
    "buurt_data['18 to 25 man'] = buurt_data['18 to 25 year']*buurt_data['Man']/buurt_data['Population']\n",
    "buurt_data['25 to 35 man'] = buurt_data['25 to 35 year']*buurt_data['Man']/buurt_data['Population']\n",
    "buurt_data['35 to 50 man'] = buurt_data['35 to 50 year']*buurt_data['Man']/buurt_data['Population']\n",
    "buurt_data['50 to 65 man'] = buurt_data['50 to 65 year']*buurt_data['Man']/buurt_data['Population']\n",
    "buurt_data['65 to 75 man'] = buurt_data['65 to 75 year']*buurt_data['Man']/buurt_data['Population']\n",
    "buurt_data['75 or older man'] = buurt_data['75 or older']*buurt_data['Man']/buurt_data['Population']\n",
    "buurt_data['6 to 12 woman'] = buurt_data['6 to 12 year']*buurt_data['Woman']/buurt_data['Population']\n",
    "buurt_data['12 to 18 woman'] = buurt_data['12 to 18 year']*buurt_data['Woman']/buurt_data['Population']\n",
    "buurt_data['18 to 25 woman'] = buurt_data['18 to 25 year']*buurt_data['Woman']/buurt_data['Population']\n",
    "buurt_data['25 to 35 woman'] = buurt_data['25 to 35 year']*buurt_data['Woman']/buurt_data['Population']\n",
    "buurt_data['35 to 50 woman'] = buurt_data['35 to 50 year']*buurt_data['Woman']/buurt_data['Population']\n",
    "buurt_data['50 to 65 woman'] = buurt_data['50 to 65 year']*buurt_data['Woman']/buurt_data['Population']\n",
    "buurt_data['65 to 75 woman'] = buurt_data['65 to 75 year']*buurt_data['Woman']/buurt_data['Population']\n",
    "buurt_data['75 or older woman'] = buurt_data['75 or older']*buurt_data['Woman']/buurt_data['Population']"
   ]
  },
  {
   "cell_type": "code",
   "execution_count": 25,
   "metadata": {},
   "outputs": [],
   "source": [
    "male_mob = male_mob[2:10]\n",
    "female_mob = female_mob[2:10]"
   ]
  },
  {
   "cell_type": "code",
   "execution_count": 26,
   "metadata": {},
   "outputs": [],
   "source": [
    "male_mob['sex'] = 'male'\n",
    "female_mob['sex'] = 'female'\n",
    "mobility = male_mob.append(female_mob,ignore_index=True)\n",
    "#mobility.head()"
   ]
  },
  {
   "cell_type": "code",
   "execution_count": 27,
   "metadata": {},
   "outputs": [],
   "source": [
    "mobility['Train.1'].replace({\".\": np.nan},inplace=True)\n",
    "mobility['Train.1'].fillna((mobility['Train.1'].astype('float').mean()), inplace=True)\n",
    "mobility['Bus / tram / metro.1'].replace({\".\": np.nan},inplace=True)\n",
    "mobility['Bus / tram / metro.1'].fillna((mobility['Bus / tram / metro.1'].astype('float').mean()), inplace=True)\n",
    "mobility.replace({\".\": 0},inplace=True)"
   ]
  },
  {
   "cell_type": "code",
   "execution_count": 29,
   "metadata": {},
   "outputs": [],
   "source": [
    "distance_travelled_each_buurt = pd.DataFrame(columns=['Name','Type','Code','Mode','Distance travelled'])\n",
    "value = 0\n",
    "for buurt in buurt_data['Name'].unique():\n",
    "        typeofregion = buurt_data.loc[buurt_data['Name']== buurt,'type'].reset_index(drop=True)[0]\n",
    "        code = buurt_data.loc[buurt_data['Name']== buurt,'code'].reset_index(drop=True)[0]\n",
    "        male_6to12_num = buurt_data.loc[buurt_data['Name']== buurt,'6 to 12 man'].reset_index(drop=True)[0]\n",
    "        male_12to18_num = buurt_data.loc[buurt_data['Name']== buurt,'12 to 18 man'].reset_index(drop=True)[0]\n",
    "        male_18to25_num = buurt_data.loc[buurt_data['Name']== buurt,'18 to 25 man'].reset_index(drop=True)[0]\n",
    "        male_25to35_num = buurt_data.loc[buurt_data['Name']== buurt,'25 to 35 man'].reset_index(drop=True)[0]\n",
    "        male_35to50_num = buurt_data.loc[buurt_data['Name']== buurt,'35 to 50 man'].reset_index(drop=True)[0]\n",
    "        male_50to65_num = buurt_data.loc[buurt_data['Name']== buurt,'50 to 65 man'].reset_index(drop=True)[0]\n",
    "        male_65to75_num = buurt_data.loc[buurt_data['Name']== buurt,'65 to 75 man'].reset_index(drop=True)[0]\n",
    "        male_75orolder_num = buurt_data.loc[buurt_data['Name']== buurt,'75 or older man'].reset_index(drop=True)[0]\n",
    "        female_6to12_num = buurt_data.loc[buurt_data['Name']== buurt,'6 to 12 woman'].reset_index(drop=True)[0]\n",
    "        female_12to18_num = buurt_data.loc[buurt_data['Name']== buurt,'12 to 18 woman'].reset_index(drop=True)[0]\n",
    "        female_18to25_num = buurt_data.loc[buurt_data['Name']== buurt,'18 to 25 woman'].reset_index(drop=True)[0]\n",
    "        female_25to35_num = buurt_data.loc[buurt_data['Name']== buurt,'25 to 35 woman'].reset_index(drop=True)[0]\n",
    "        female_35to50_num = buurt_data.loc[buurt_data['Name']== buurt,'35 to 50 woman'].reset_index(drop=True)[0]\n",
    "        female_50to65_num = buurt_data.loc[buurt_data['Name']== buurt,'50 to 65 woman'].reset_index(drop=True)[0]\n",
    "        female_65to75_num = buurt_data.loc[buurt_data['Name']== buurt,'65 to 75 woman'].reset_index(drop=True)[0]\n",
    "        female_75orolder_num = buurt_data.loc[buurt_data['Name']== buurt,'75 or older woman'].reset_index(drop=True)[0]\n",
    "        number_list = np.array([ male_6to12_num, male_12to18_num, male_18to25_num, male_25to35_num,\n",
    "                                 male_35to50_num, male_50to65_num, male_65to75_num, male_75orolder_num,\n",
    "                                 female_6to12_num,female_12to18_num,female_18to25_num,female_25to35_num,\n",
    "                                 female_35to50_num,female_50to65_num,female_65to75_num,female_75orolder_num])\n",
    "        for mode in ['Passenger car (driver).1','Passenger car (passenger).1','Train.1','Bus / tram / metro.1', 'Bike.1', 'walk.1','Other mode of transport.1']:\n",
    "            travel_list = np.array(mobility[mode]).astype('float')\n",
    "            total_distance = np.sum(number_list*travel_list)\n",
    "            distance_travelled_each_buurt = distance_travelled_each_buurt.append({'Name':buurt,'Type':typeofregion,\n",
    "                                                                                 'Code':code,'Mode':mode,\n",
    "                                                                                 'Distance travelled':total_distance},ignore_index=True)"
   ]
  },
  {
   "cell_type": "code",
   "execution_count": 30,
   "metadata": {},
   "outputs": [],
   "source": [
    "distance_travelled_each_buurt = distance_travelled_each_buurt.dropna()\n",
    "distance_travelled_each_buurt.to_csv('distance_travelled.csv',index=False)"
   ]
  },
  {
   "cell_type": "code",
   "execution_count": 31,
   "metadata": {},
   "outputs": [],
   "source": [
    "distance_travelled_each_buurt.head()\n",
    "codes = pd.read_csv('C:/Users/patel/Thesis/DataCleaning/GivingBuurtCodes/buurt_codes.csv')\n",
    "codes.rename(columns={'BUURTNAAM':'Name'},inplace=True)\n",
    "codes = codes[['Name','BUURTCODE']]\n",
    "final_mobility = distance_travelled_each_buurt.merge(codes,on=['Name'],how='inner')\n",
    "final_mobility.head()\n",
    "for mode in final_mobility['Mode'].unique():\n",
    "    df = final_mobility[final_mobility['Mode']==mode]\n",
    "    if mode == 'Bus / tram / metro.1':\n",
    "        df.to_csv('bus_tram_metro.csv',index=False)\n",
    "    else:\n",
    "        df.to_csv(mode + '.csv',index=False)"
   ]
  }
 ],
 "metadata": {
  "kernelspec": {
   "display_name": "Python 3",
   "language": "python",
   "name": "python3"
  },
  "language_info": {
   "codemirror_mode": {
    "name": "ipython",
    "version": 3
   },
   "file_extension": ".py",
   "mimetype": "text/x-python",
   "name": "python",
   "nbconvert_exporter": "python",
   "pygments_lexer": "ipython3",
   "version": "3.7.6"
  }
 },
 "nbformat": 4,
 "nbformat_minor": 4
}
