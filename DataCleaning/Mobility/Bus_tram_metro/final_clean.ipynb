{
 "cells": [
  {
   "cell_type": "code",
   "execution_count": 1,
   "metadata": {},
   "outputs": [],
   "source": [
    "import pandas as pd"
   ]
  },
  {
   "cell_type": "code",
   "execution_count": 2,
   "metadata": {},
   "outputs": [],
   "source": [
    "hague_pop = pd.read_excel('C:/Users/patel/Thesis/DataCleaning/Mobility/Hague_cijfers.xlsx',sheet_name='Meest-recent')\n",
    "distance_driver = pd.read_csv('bus_tram_metro.csv')\n",
    "#distance_passenger = pd.read_csv('Passenger car (passenger).1.csv')"
   ]
  },
  {
   "cell_type": "code",
   "execution_count": 3,
   "metadata": {},
   "outputs": [],
   "source": [
    "hague_pop['Name'] = hague_pop['Naam van het gebied']\n",
    "hague_pop['population'] = hague_pop['Aantal inwoners']\n",
    "hague_pop = hague_pop[['Name','population']]"
   ]
  },
  {
   "cell_type": "code",
   "execution_count": 5,
   "metadata": {},
   "outputs": [],
   "source": [
    "#distance_driver['Distance_travelled_driver'] = distance_driver['Distance travelled']\n",
    "#distance_driver=distance_driver[['Name','Distance_travelled_driver','BUURTCODE']]\n",
    "#distance_passenger['Distance_travelled_passenger'] = distance_passenger['Distance travelled']\n",
    "#distance_passenger=distance_passenger[['Name','Distance_travelled_passenger']]"
   ]
  },
  {
   "cell_type": "code",
   "execution_count": 4,
   "metadata": {},
   "outputs": [],
   "source": [
    "distance = distance_driver.merge(hague_pop,on=['Name'],how='inner')\n",
    "#distance = pd.merge(distance_driver,distance_passenger,on=['Name'],how='inner')\n",
    "distance['tram km per capita'] = 0.5*(distance['Distance travelled'])/distance['population']\n",
    "distance['bus km per capita'] = 0.5*(distance['Distance travelled'])/distance['population']\n",
    "distance.to_csv('bus_tram_km.csv',index=False)"
   ]
  }
 ],
 "metadata": {
  "kernelspec": {
   "display_name": "Python 3",
   "language": "python",
   "name": "python3"
  },
  "language_info": {
   "codemirror_mode": {
    "name": "ipython",
    "version": 3
   },
   "file_extension": ".py",
   "mimetype": "text/x-python",
   "name": "python",
   "nbconvert_exporter": "python",
   "pygments_lexer": "ipython3",
   "version": "3.7.6"
  }
 },
 "nbformat": 4,
 "nbformat_minor": 4
}
