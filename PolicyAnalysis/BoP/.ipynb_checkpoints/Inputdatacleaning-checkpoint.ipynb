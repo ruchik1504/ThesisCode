{
 "cells": [
  {
   "cell_type": "code",
   "execution_count": 1,
   "metadata": {},
   "outputs": [],
   "source": [
    "import pandas as pd\n",
    "import numpy as np\n",
    "import locale\n",
    "from locale import atof\n",
    "from sklearn.model_selection import train_test_split\n",
    "from sklearn.ensemble import RandomForestClassifier"
   ]
  },
  {
   "cell_type": "markdown",
   "metadata": {},
   "source": [
    "## Population classification by sex"
   ]
  },
  {
   "cell_type": "code",
   "execution_count": 2,
   "metadata": {},
   "outputs": [],
   "source": [
    "population = pd.read_csv('Population.csv')\n",
    "population_total_over_age = population[population['AGE']=='Total']    #Consider the total over all ages\n",
    "male_pop = population_total_over_age[population_total_over_age['SEX']=='Males']    #Classify into male and female population\n",
    "female_pop = population_total_over_age[population_total_over_age['SEX']=='Females']\n",
    "male_pop = male_pop[['TIME','GEO','Value']]                                    #Select data only for time, region and population    \n",
    "female_pop = female_pop[['TIME','GEO','Value']]   \n",
    "male_pop.columns = ['TIME','GEO','males']                                     #Rename columns\n",
    "female_pop.columns = ['TIME','GEO','females']\n",
    "population_sex = male_pop.merge(female_pop,on=['TIME','GEO'])                #Merge male and female data as separate columns\n",
    "population_sex = population_sex.replace({',':''},regex=True)                 #Convert population to numeric format\n",
    "population_sex.replace({\":\":0}, inplace=True)                                 \n",
    "for column in population_sex.columns:\n",
    "    population_sex[column] = pd.to_numeric(population_sex[column],errors='ignore')\n",
    "#population_age.applymap(atof)"
   ]
  },
  {
   "cell_type": "markdown",
   "metadata": {},
   "source": [
    "## Population classification by age and income"
   ]
  },
  {
   "cell_type": "code",
   "execution_count": 3,
   "metadata": {},
   "outputs": [],
   "source": [
    "population_age = pd.DataFrame()\n",
    "population_age['TIME'] = population_sex['TIME']\n",
    "population_age['GEO'] = population_sex['GEO']\n",
    "population_total_over_sex = population[population['SEX']=='Total']           #Get data over both male and female\n",
    "for age in population_total_over_sex['AGE'].unique():                        #integrate age divided data with the dataframe  \n",
    "    age_group = population_total_over_sex[population_total_over_sex['AGE']==age]\n",
    "    age_group = age_group[['TIME','GEO','Value']]\n",
    "    age_group.columns = ['TIME','GEO','number_ ' + age]\n",
    "    population_age = population_age.merge(age_group,on=['TIME','GEO'])\n",
    "population_age = population_age.replace({',':''},regex=True)               #Convert non numeric data to numeric format       \n",
    "population_age.replace({\":\":0}, inplace=True) \n",
    "for column in population_age.columns:                               \n",
    "    population_age[column] = pd.to_numeric(population_age[column],errors='ignore')\n",
    "#population_age.applymap(atof)\n",
    "#Divide age cohorts into ages for which data is avaialble in Hague cijfers\n",
    "population_age['0 to 15 year'] =  population_age['number_ Less than 5 years'] + population_age['number_ From 5 to 9 years']+ population_age['number_ From 10 to 14 years']\n",
    "population_age['15 to 25 year'] = population_age['number_ From 15 to 19 years'] + population_age['number_ From 20 to 24 years']\n",
    "population_age['25 to 45 year'] = population_age['number_ From 25 to 29 years'] + population_age['number_ From 30 to 34 years'] \\\n",
    "                                  + population_age['number_ From 35 to 39 years'] + population_age['number_ From 40 to 44 years']\n",
    "population_age['45 to 65 year'] = population_age['number_ From 45 to 49 years'] + population_age['number_ From 50 to 54 years'] \\\n",
    "                                  + population_age['number_ From 55 to 59 years'] + population_age['number_ From 60 to 64 years']\n",
    "population_age['65 or older'] = population_age['number_ Total'] - population_age['0 to 15 year'] - population_age['15 to 25 year']\\\n",
    "                                - population_age['25 to 45 year'] - population_age['45 to 65 year']\n",
    "population_age = population_age[['TIME','GEO','0 to 15 year','15 to 25 year', '25 to 45 year', '45 to 65 year', '65 or older']]\n",
    "input_data = population_sex.merge(population_age,how='inner',on=['TIME','GEO'])   #Integrate age data with sex data\n",
    "income = pd.read_csv('Income.csv')\n",
    "input_data = pd.merge(input_data,income,how='inner',on=['TIME','GEO'])          #Integrate income data with existing database"
   ]
  },
  {
   "cell_type": "markdown",
   "metadata": {},
   "source": [
    "## Adding education data for different countries"
   ]
  },
  {
   "cell_type": "code",
   "execution_count": 4,
   "metadata": {},
   "outputs": [],
   "source": [
    "edu = pd.read_csv('Education.csv')\n",
    "i = 0\n",
    "for education in edu['ISCED11'].unique():\n",
    "    if (i == 0):\n",
    "        i = i + 1\n",
    "        education_categorized = edu[edu['ISCED11']== education]\n",
    "        education_categorized = education_categorized[['TIME','GEO','Value']]\n",
    "        education_categorized.columns =['TIME','GEO',education]\n",
    "    else :\n",
    "        category = edu[edu['ISCED11']== education]\n",
    "        category = category[['TIME','GEO','Value']]\n",
    "        category.columns = ['TIME','GEO',education]\n",
    "        education_categorized = education_categorized.merge(category,on=['TIME','GEO'],how='inner')\n",
    "education_categorized = education_categorized.iloc[:,[0,1,2,4,5]]\n",
    "education_categorized.columns=['TIME','GEO','Primary','Secondary','Tertiary']\n",
    "education_categorized['Primary'] = pd.to_numeric(education_categorized['Primary'],errors='coerce')\n",
    "education_categorized['Secondary'] = pd.to_numeric(education_categorized['Secondary'],errors='coerce')\n",
    "education_categorized['Tertiary'] = pd.to_numeric(education_categorized['Tertiary'],errors='coerce')\n",
    "input_data = pd.merge(input_data,education_categorized,how='inner',on=['TIME','GEO'])"
   ]
  },
  {
   "cell_type": "markdown",
   "metadata": {},
   "source": [
    "## Adding employment data for different countries"
   ]
  },
  {
   "cell_type": "code",
   "execution_count": 5,
   "metadata": {},
   "outputs": [],
   "source": [
    "employ = pd.read_csv('ActivityLevel.csv')\n",
    "employ = employ[employ['SEX']=='Total']\n",
    "employ['time and country'] = employ['TIME'].str[0:4] + employ['GEO']\n",
    "employ.replace({\":\":np.NaN}, inplace=True)\n",
    "employ = employ[['time and country','Value']]\n",
    "employ['Value'] = pd.to_numeric(employ['Value'],errors = 'ignore')\n",
    "employ_new = employ.groupby('time and country').mean()\n",
    "employ_new['time and country']=employ_new.index\n",
    "employ_new['TIME'] = employ_new['time and country'].str[0:4]\n",
    "employ_new['GEO'] = employ_new['time and country'].str[4:]\n",
    "employ_new = employ_new[['TIME','GEO','Value']]\n",
    "employ_new.columns = ['TIME','GEO','activity_level']\n",
    "employ_new = employ_new.reset_index(drop=True)\n",
    "employ_new['TIME'] = pd.to_numeric(employ_new['TIME'],errors = 'ignore')\n",
    "input_data = pd.merge(input_data,employ_new,how='inner',on=['TIME','GEO'])\n",
    "input_data = input_data[input_data['UNIT']=='Euro']\n",
    "input_data.drop(['HHTYP','INDIC_IL','UNIT','Flag and Footnotes'], axis=1, inplace=True)\n"
   ]
  },
  {
   "cell_type": "markdown",
   "metadata": {},
   "source": [
    "## Modifying the input data to percentages"
   ]
  },
  {
   "cell_type": "code",
   "execution_count": 6,
   "metadata": {},
   "outputs": [],
   "source": [
    "input_data['Total_pop'] = input_data['males'] + input_data['females']\n",
    "input_data['male_percent'] = input_data['males']/input_data['Total_pop']\n",
    "input_data['female_percent'] = input_data['females']/input_data['Total_pop']\n",
    "input_data['0 to 15 percent'] = input_data['0 to 15 year']/input_data['Total_pop']\n",
    "input_data['15 to 25 percent'] = input_data['15 to 25 year']/input_data['Total_pop']\n",
    "input_data['25 to 45 percent'] = input_data['25 to 45 year']/input_data['Total_pop']\n",
    "input_data['45 to 65 percent'] = input_data['45 to 65 year']/input_data['Total_pop']\n",
    "input_data['65 or older percent'] = input_data['65 or older']/input_data['Total_pop']\n",
    "input_data['Primary'] = input_data['Primary']*0.01 \n",
    "input_data['Secondary'] = input_data['Secondary']*0.01 \n",
    "input_data['Tertiary'] = input_data['Tertiary']*0.01 \n",
    "input_data['activity_level'] = input_data['activity_level']*0.01\n",
    "input_data['Value']=input_data['Value'].replace({\",\":''}, regex=True)\n",
    "input_data['Value'] = pd.to_numeric(input_data['Value'],errors='coerce')\n",
    "input_data.rename(columns = {'Value':'Income'}, inplace = True)\n",
    "final_input_data = input_data[['TIME','GEO','male_percent','female_percent','0 to 15 percent','15 to 25 percent',\n",
    "                              '25 to 45 percent','45 to 65 percent','65 or older percent','Primary','Secondary',\n",
    "                              'Tertiary','activity_level','Income','Total_pop']]\n",
    "final_input_data.to_csv('inputdata.csv',index=False)"
   ]
  }
 ],
 "metadata": {
  "kernelspec": {
   "display_name": "Python 3",
   "language": "python",
   "name": "python3"
  },
  "language_info": {
   "codemirror_mode": {
    "name": "ipython",
    "version": 3
   },
   "file_extension": ".py",
   "mimetype": "text/x-python",
   "name": "python",
   "nbconvert_exporter": "python",
   "pygments_lexer": "ipython3",
   "version": "3.7.4"
  }
 },
 "nbformat": 4,
 "nbformat_minor": 4
}
