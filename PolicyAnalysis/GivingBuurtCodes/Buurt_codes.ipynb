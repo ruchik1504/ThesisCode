{
 "cells": [
  {
   "cell_type": "code",
   "execution_count": 80,
   "metadata": {},
   "outputs": [],
   "source": [
    "import pandas as pd\n",
    "import numpy as np"
   ]
  },
  {
   "cell_type": "code",
   "execution_count": 81,
   "metadata": {},
   "outputs": [],
   "source": [
    "hague_cijfers = pd.read_excel('Hague_cijfers.xlsx',sheet_name = 'Meest-recent')"
   ]
  },
  {
   "cell_type": "code",
   "execution_count": 82,
   "metadata": {},
   "outputs": [],
   "source": [
    "#buurts = hague_cijfers[hague_cijfers['Soort regio']=='Buurt']\n",
    "buurt_data = hague_cijfers[['Naam van het gebied','Soort regio','Aantal inwoners','Mannen','Vrouwen','0 tot 15 jaar','15 tot 25 jaar','25 tot 45 jaar',\n",
    "                 '45 tot 65 jaar','65 jaar of ouder','Gemiddeld inkomen per inkomensontvanger ','Actieven 15-75 jaar']]\n",
    "buurt_data.columns = ['Name','type','Population','Male','Female','0 to 15 year','15 to 25 year','25 to 45 year',\n",
    "                     '45 to 65 year','65 or older','Income','Activity rate']"
   ]
  },
  {
   "cell_type": "code",
   "execution_count": 83,
   "metadata": {},
   "outputs": [],
   "source": [
    "buurt_data = buurt_data.reset_index(drop=True)\n",
    "wijk = ''\n",
    "buurt_data['Nearest wijk'] = 'Den Haag'\n",
    "for i in range (0,len(buurt_data)):\n",
    "    if (buurt_data.loc[i,'type'] == 'Wijk'):\n",
    "        wijk = buurt_data.loc[i,'Name']\n",
    "    buurt_data.loc[i,'Nearest wijk'] = wijk\n",
    "buurt_data['Wijk no'] = buurt_data['Nearest wijk'].str.split(\" \",n=2,expand=True)[1]"
   ]
  },
  {
   "cell_type": "code",
   "execution_count": 84,
   "metadata": {},
   "outputs": [],
   "source": [
    "hague_primary_rate = '33'\n",
    "hague_secondary_rate = '36'\n",
    "hague_tertiary_rate = '31'\n",
    "education = pd.read_csv('Education.csv')\n",
    "education['Wijk no'] = education['Wijken'].str.split(\" \",n = 1, expand = True)[0]\n"
   ]
  },
  {
   "cell_type": "code",
   "execution_count": 85,
   "metadata": {},
   "outputs": [],
   "source": [
    "buurt_data_with_edu = buurt_data.merge(education,on=['Wijk no'])\n",
    "buurt_data_with_edu.drop(['Nearest wijk', 'Wijken','Wijk no'], axis=1, inplace=True)\n",
    "buurt_data_with_edu.rename(columns={'Opleidingsniveau Laag|2017': 'Primary', 'Opleidingsniveau Middelbaar|2017': 'Secondary','Opleidingsniveau Hoog|2017':'Tertiary'}, inplace=True)\n",
    "buurt_data_final = buurt_data_with_edu\n",
    "buurt_data_final['Primary'] = buurt_data_final['Primary'].fillna(hague_primary_rate)\n",
    "buurt_data_final['Secondary'] = buurt_data_final['Secondary'].fillna(hague_secondary_rate)\n",
    "buurt_data_final['Tertiary'] = buurt_data_final['Tertiary'].fillna(hague_tertiary_rate)\n",
    "buurt_data_final['Primary'].replace({\"x\":hague_primary_rate}, inplace=True)\n",
    "buurt_data_final['Secondary'].replace({\"x\":hague_secondary_rate}, inplace=True)\n",
    "buurt_data_final['Tertiary'].replace({\"x\":hague_tertiary_rate}, inplace=True)\n",
    "buurt_data_final['Primary'] = buurt_data_final['Primary'].astype('float')\n",
    "buurt_data_final['Secondary'] = buurt_data_final['Secondary'].astype('float')\n",
    "buurt_data_final['Tertiary'] = buurt_data_final['Tertiary'].astype('float')"
   ]
  },
  {
   "cell_type": "code",
   "execution_count": 86,
   "metadata": {},
   "outputs": [],
   "source": [
    "buurt_data_final = buurt_data_final[buurt_data_final['type']=='Buurt']\n",
    "buurt_data_final.drop(['type'],axis=1,inplace=True)"
   ]
  },
  {
   "cell_type": "code",
   "execution_count": 87,
   "metadata": {},
   "outputs": [],
   "source": [
    "codes = pd.read_csv('buurt_codes.csv')\n",
    "codes.rename(columns={'BUURTNAAM':'Name'},inplace=True)\n",
    "codes = codes[['Name','BUURTCODE']]"
   ]
  },
  {
   "cell_type": "code",
   "execution_count": 88,
   "metadata": {},
   "outputs": [
    {
     "data": {
      "text/plain": [
       "114"
      ]
     },
     "execution_count": 88,
     "metadata": {},
     "output_type": "execute_result"
    }
   ],
   "source": [
    "buurt_data_final = buurt_data_final.merge(codes,on=['Name'],how='inner')\n",
    "len(buurt_data_final)"
   ]
  },
  {
   "cell_type": "code",
   "execution_count": 89,
   "metadata": {},
   "outputs": [],
   "source": [
    "buurt_data_final['Male'] = buurt_data_final['Male']/buurt_data_final['Population'] \n",
    "buurt_data_final['Female'] = buurt_data_final['Female']/buurt_data_final['Population']\n",
    "buurt_data_final['0 to 15 year'] = buurt_data_final['0 to 15 year']/buurt_data_final['Population'] \n",
    "buurt_data_final['15 to 25 year'] = buurt_data_final['15 to 25 year']/buurt_data_final['Population'] \n",
    "buurt_data_final['25 to 45 year'] = buurt_data_final['25 to 45 year']/buurt_data_final['Population'] \n",
    "buurt_data_final['45 to 65 year'] = buurt_data_final['45 to 65 year']/buurt_data_final['Population'] \n",
    "buurt_data_final['65 or older'] = buurt_data_final['65 or older']/buurt_data_final['Population']\n",
    "buurt_data_final['Primary'] = buurt_data_final['Primary']*0.01\n",
    "buurt_data_final['Secondary'] = buurt_data_final['Secondary']*0.01\n",
    "buurt_data_final['Tertiary'] = buurt_data_final['Tertiary']*0.01\n",
    "buurt_data_final = buurt_data_final.dropna()\n",
    "buurt_data_final = buurt_data_final[['Name','BUURTCODE','Population','Male','Female','0 to 15 year','15 to 25 year','25 to 45 year',\n",
    "                                    '45 to 65 year','65 or older','Primary','Secondary','Tertiary','Activity rate','Income']] "
   ]
  },
  {
   "cell_type": "code",
   "execution_count": 90,
   "metadata": {},
   "outputs": [],
   "source": [
    "buurt_data_final.to_csv('buurt_data_input.csv',index=False)"
   ]
  }
 ],
 "metadata": {
  "kernelspec": {
   "display_name": "Python 3",
   "language": "python",
   "name": "python3"
  },
  "language_info": {
   "codemirror_mode": {
    "name": "ipython",
    "version": 3
   },
   "file_extension": ".py",
   "mimetype": "text/x-python",
   "name": "python",
   "nbconvert_exporter": "python",
   "pygments_lexer": "ipython3",
   "version": "3.7.4"
  }
 },
 "nbformat": 4,
 "nbformat_minor": 4
}
