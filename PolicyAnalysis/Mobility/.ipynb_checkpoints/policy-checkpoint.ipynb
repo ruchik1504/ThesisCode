{
 "cells": [
  {
   "cell_type": "code",
   "execution_count": null,
   "metadata": {},
   "outputs": [],
   "source": [
    "import pandas as pd\n",
    "import numpy as np\n",
    "import matplotlib.pyplot as plt\n",
    "from ema_workbench import (Model, RealParameter, ScalarOutcome, ema_logging,\n",
    "                           perform_experiments,TimeSeriesOutcome)"
   ]
  },
  {
   "cell_type": "code",
   "execution_count": null,
   "metadata": {},
   "outputs": [],
   "source": [
    "car = pd.read_csv('Car/car_km.csv')\n",
    "train = pd.read_csv('Train/train_km.csv')\n",
    "bus = pd.read_csv('Bus_tram_metro/bus_tram_km.csv')"
   ]
  },
  {
   "cell_type": "code",
   "execution_count": null,
   "metadata": {},
   "outputs": [],
   "source": [
    "car = car[['Name','BUURTCODE','car km per capita']]\n",
    "train = train[['Name','train km per capita']]\n",
    "tram = bus[['Name','tram km per capita']]\n",
    "passenger_km = pd.merge(car,train,on=['Name'],how='inner')\n",
    "passenger_km = pd.merge(passenger_km,tram,on=['Name'],how='inner')\n",
    "passenger_km['Total'] = passenger_km['car km per capita'] + passenger_km['train km per capita'] + passenger_km['tram km per capita']  \n",
    "passenger_km = passenger_km[['Name','Total']]\n",
    "hague = pd.read_excel('hague_data.xlsx')\n",
    "input_data = pd.merge(passenger_km,hague,on=['Name'],how='inner')\n",
    "input_data['Cars'] = input_data['Cars']/input_data['Population']"
   ]
  },
  {
   "cell_type": "code",
   "execution_count": null,
   "metadata": {},
   "outputs": [],
   "source": [
    "plt.scatter(input_data['Income'],input_data['Cars'])\n",
    "plt.ylim(0,0.8)"
   ]
  }
 ],
 "metadata": {
  "kernelspec": {
   "display_name": "Python 3",
   "language": "python",
   "name": "python3"
  },
  "language_info": {
   "codemirror_mode": {
    "name": "ipython",
    "version": 3
   },
   "file_extension": ".py",
   "mimetype": "text/x-python",
   "name": "python",
   "nbconvert_exporter": "python",
   "pygments_lexer": "ipython3",
   "version": "3.7.6"
  }
 },
 "nbformat": 4,
 "nbformat_minor": 4
}
