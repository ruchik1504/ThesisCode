{
 "cells": [
  {
   "cell_type": "code",
   "execution_count": 1,
   "metadata": {},
   "outputs": [],
   "source": [
    "import pandas as pd\n",
    "import numpy as np\n",
    "import seaborn as sns\n",
    "import matplotlib.pyplot as plt"
   ]
  },
  {
   "cell_type": "code",
   "execution_count": 19,
   "metadata": {},
   "outputs": [],
   "source": [
    "cijfers = pd.read_excel('Hague_cijfers.xlsx',sheet_name = 'Meest-recent')\n",
    "sec = pd.read_excel('AreaandSales.xlsx')"
   ]
  },
  {
   "cell_type": "code",
   "execution_count": 20,
   "metadata": {},
   "outputs": [],
   "source": [
    "wijk = ''\n",
    "for i in range (0,len(cijfers)):\n",
    "    if (cijfers.loc[i,'Soort regio'] == 'Wijk'):\n",
    "        wijk = cijfers.loc[i,'Naam van het gebied']\n",
    "    cijfers.loc[i,'Nearest wijk'] = wijk\n",
    "cijfers['Wijk no'] = cijfers['Nearest wijk'].str.split(\" \",n=2,expand=True)[1]"
   ]
  },
  {
   "cell_type": "code",
   "execution_count": 21,
   "metadata": {},
   "outputs": [],
   "source": [
    "sec.columns = ['Name','Total area','Number of properties sold']\n",
    "sec['Wijk no'] = sec['Name'].str.split(\" \",n = 1, expand = True)[0]\n",
    "input_data = cijfers.merge(sec,on=['Wijk no'])"
   ]
  },
  {
   "cell_type": "code",
   "execution_count": 22,
   "metadata": {},
   "outputs": [
    {
     "name": "stderr",
     "output_type": "stream",
     "text": [
      "C:\\ProgramData\\Anaconda3\\lib\\site-packages\\ipykernel_launcher.py:5: RuntimeWarning: divide by zero encountered in true_divide\n",
      "  \"\"\"\n"
     ]
    }
   ],
   "source": [
    "den = 0\n",
    "prop_sold = 0\n",
    "for i in range (0,len(input_data)):\n",
    "    if (input_data.loc[i,'Soort regio'] == 'Wijk'):\n",
    "        den = input_data.loc[i,'Total area']/input_data.loc[i,'Aantal inwoners']\n",
    "        prop_sold = 1000*input_data.loc[i,'Number of properties sold']/input_data.loc[i,'Aantal inwoners']\n",
    "    input_data.loc[i,'density'] = den\n",
    "    input_data.loc[i,'property_sold'] = prop_sold    \n",
    "#cijfers['Wijk no'] = cijfers['Nearest wijk'].str.split(\" \",n=2,expand=True)[1]"
   ]
  },
  {
   "cell_type": "code",
   "execution_count": 23,
   "metadata": {},
   "outputs": [
    {
     "name": "stderr",
     "output_type": "stream",
     "text": [
      "C:\\ProgramData\\Anaconda3\\lib\\site-packages\\ipykernel_launcher.py:2: SettingWithCopyWarning: \n",
      "A value is trying to be set on a copy of a slice from a DataFrame.\n",
      "Try using .loc[row_indexer,col_indexer] = value instead\n",
      "\n",
      "See the caveats in the documentation: https://pandas.pydata.org/pandas-docs/stable/user_guide/indexing.html#returning-a-view-versus-a-copy\n",
      "  \n",
      "C:\\ProgramData\\Anaconda3\\lib\\site-packages\\ipykernel_launcher.py:3: SettingWithCopyWarning: \n",
      "A value is trying to be set on a copy of a slice from a DataFrame.\n",
      "Try using .loc[row_indexer,col_indexer] = value instead\n",
      "\n",
      "See the caveats in the documentation: https://pandas.pydata.org/pandas-docs/stable/user_guide/indexing.html#returning-a-view-versus-a-copy\n",
      "  This is separate from the ipykernel package so we can avoid doing imports until\n",
      "C:\\ProgramData\\Anaconda3\\lib\\site-packages\\ipykernel_launcher.py:10: RuntimeWarning: divide by zero encountered in log\n",
      "  # Remove the CWD from sys.path while we load stuff.\n",
      "C:\\ProgramData\\Anaconda3\\lib\\site-packages\\ipykernel_launcher.py:10: RuntimeWarning: invalid value encountered in double_scalars\n",
      "  # Remove the CWD from sys.path while we load stuff.\n",
      "C:\\ProgramData\\Anaconda3\\lib\\site-packages\\ipykernel_launcher.py:12: RuntimeWarning: divide by zero encountered in log\n",
      "  if sys.path[0] == '':\n",
      "C:\\ProgramData\\Anaconda3\\lib\\site-packages\\ipykernel_launcher.py:12: RuntimeWarning: invalid value encountered in double_scalars\n",
      "  if sys.path[0] == '':\n",
      "C:\\ProgramData\\Anaconda3\\lib\\site-packages\\ipykernel_launcher.py:14: RuntimeWarning: divide by zero encountered in log\n",
      "  \n",
      "C:\\ProgramData\\Anaconda3\\lib\\site-packages\\ipykernel_launcher.py:14: RuntimeWarning: invalid value encountered in double_scalars\n",
      "  \n"
     ]
    }
   ],
   "source": [
    "input_data_fin = input_data[['Naam van het gebied','Huishoudens totaal','Aantal inwoners','65 jaar of ouder','Gemiddelde huishoudensgrootte','Niet-westers totaal','density','property_sold','40% huishoudens met laagste inkomen','20% huishoudens met hoogste inkomen']]\n",
    "input_data_fin['65 jaar of ouder'] = 100*input_data_fin['65 jaar of ouder']/input_data_fin['Aantal inwoners']\n",
    "input_data_fin['mid40'] = 100*(1-(input_data_fin['40% huishoudens met laagste inkomen']+input_data_fin['20% huishoudens met hoogste inkomen']))\n",
    "#input_data = input_data_fin[['Naam van het gebied','Huishoudens totaal','Aantal inwoners','65 jaar of ouder','Gemiddelde huishoudensgrootte','density','property_sold','mid40']]\n",
    "input_data_fin = input_data_fin.dropna()\n",
    "input_data_fin = input_data_fin.reset_index(drop=True)\n",
    "#weight\n",
    "for i in range (0,len(input_data_fin)):\n",
    "#    input_data_fin.loc[i,'lnofwaste'] =  -0.48*(62/0.14) + (0.11*62/2.9)*np.log(input_data_fin.loc[i,'65 jaar of ouder']) -(0.24*62/0.2)*np.log(input_data_fin.loc[i,'Gemiddelde huishoudensgrootte']) - (0.05*62/0.22) - (0.03*62/0.04)*np.log(0.04) + (0.03*62/1.35)*(np.log(input_data_fin.loc[i,'density'])) + (0.004*62/1.35)*(np.log(input_data_fin.loc[i,'density'])**2) + (0.002*62/3.12)*input_data_fin.loc[i,'property_sold'] + (0.24*62/2.34)*np.log(input_data_fin.loc[i,'mid40'])\n",
    "    input_data_fin.loc[i,'lnofwaste_weight'] =  5.077-0.48 + (0.11)*np.log(input_data_fin.loc[i,'65 jaar of ouder']) -(0.24)*np.log(input_data_fin.loc[i,'Gemiddelde huishoudensgrootte']) - (0.05) - (0.03)*np.log(0.04) + (0.03)*(np.log(input_data_fin.loc[i,'density'])) + (0.004)*(np.log(input_data_fin.loc[i,'density'])**2) + (0.002)*input_data_fin.loc[i,'property_sold'] + (0.24)*np.log(input_data_fin.loc[i,'mid40'])\n",
    "    input_data_fin.loc[i,'waste_weight'] = np.exp(input_data_fin.loc[i,'lnofwaste_weight'])\n",
    "    input_data_fin.loc[i,'lnofwaste_none'] =  5.077-0 + (0.11)*np.log(input_data_fin.loc[i,'65 jaar of ouder']) -(0.24)*np.log(input_data_fin.loc[i,'Gemiddelde huishoudensgrootte']) - (0.05) - (0.03)*np.log(0.04) + (0.03)*(np.log(input_data_fin.loc[i,'density'])) + (0.004)*(np.log(input_data_fin.loc[i,'density'])**2) + (0.002)*input_data_fin.loc[i,'property_sold'] + (0.24)*np.log(input_data_fin.loc[i,'mid40'])\n",
    "    input_data_fin.loc[i,'waste_none'] = np.exp(input_data_fin.loc[i,'lnofwaste_none'])\n",
    "    input_data_fin.loc[i,'lnofwaste_vol'] =  5.077-0.07 + (0.11)*np.log(input_data_fin.loc[i,'65 jaar of ouder']) -(0.24)*np.log(input_data_fin.loc[i,'Gemiddelde huishoudensgrootte']) - (0.05) - (0.03)*np.log(0.04) + (0.03)*(np.log(input_data_fin.loc[i,'density'])) + (0.004)*(np.log(input_data_fin.loc[i,'density'])**2) + (0.002)*input_data_fin.loc[i,'property_sold'] + (0.24)*np.log(input_data_fin.loc[i,'mid40'])\n",
    "    input_data_fin.loc[i,'waste_vol'] = np.exp(input_data_fin.loc[i,'lnofwaste_vol'])\n",
    "    "
   ]
  },
  {
   "cell_type": "code",
   "execution_count": 24,
   "metadata": {},
   "outputs": [],
   "source": [
    "input_data_fin = input_data_fin[['Naam van het gebied', 'Huishoudens totaal', 'Aantal inwoners','waste_weight','waste_none','waste_vol']]\n",
    "input_data_fin.columns = ['Name','Total households','Population_2','Weight_Based_waste','No policy waste','Volume based waste']\n",
    "orig = pd.read_csv('waste_generated_hague.csv')\n",
    "final_waste = pd.merge(orig,input_data_fin,on=['Name'],how='inner')\n",
    "final_waste.to_csv('final_policy.csv',index=False)\n"
   ]
  },
  {
   "cell_type": "code",
   "execution_count": 25,
   "metadata": {},
   "outputs": [],
   "source": [
    "final_waste2 = pd.read_csv('final_policy.csv')\n",
    "for i in range(0,len(final_waste2)):\n",
    "    final_waste2.loc[i,'error'] = abs((final_waste2.loc[i,'No policy waste']-final_waste2.loc[i,'waste per capita'])/final_waste2.loc[i,'waste per capita'])\n",
    "final_waste2.to_csv('final_policy2.csv',index=False)    "
   ]
  },
  {
   "cell_type": "code",
   "execution_count": 28,
   "metadata": {},
   "outputs": [
    {
     "data": {
      "text/plain": [
       "Index(['Name', 'BUURTCODE', 'Population', 'Household_size',\n",
       "       'Waste_generated_per_household', 'waste per capita', 'Total households',\n",
       "       'Population_2', 'Weight_Based_waste', 'No policy waste',\n",
       "       'Volume based waste', 'error'],\n",
       "      dtype='object')"
      ]
     },
     "execution_count": 28,
     "metadata": {},
     "output_type": "execute_result"
    }
   ],
   "source": [
    "final_waste2.columns"
   ]
  },
  {
   "cell_type": "code",
   "execution_count": 29,
   "metadata": {},
   "outputs": [],
   "source": [
    "final_waste2.columns = ['Name', 'BUURTCODE', 'Population', 'Household_size',\n",
    "       'Waste_generated_per_household','Original random forest','Total households','Population_2','Weight Based policy Dijkgraaf 2004','No policy Dijkgraaf 2004',\n",
    "       'Volume Based policy Dijkgraaf 2004', 'error']"
   ]
  },
  {
   "cell_type": "code",
   "execution_count": 33,
   "metadata": {},
   "outputs": [
    {
     "data": {
      "text/plain": [
       "(array([100., 200., 300., 400., 500., 600., 700., 800.]),\n",
       " <a list of 8 Text yticklabel objects>)"
      ]
     },
     "execution_count": 33,
     "metadata": {},
     "output_type": "execute_result"
    },
    {
     "data": {
      "image/png": "[encoded data removed]",
      "text/plain": [
       "<Figure size 1080x360 with 1 Axes>"
      ]
     },
     "metadata": {
      "needs_background": "light"
     },
     "output_type": "display_data"
    }
   ],
   "source": [
    "plt.figure(figsize=(15,5))\n",
    "sns.boxplot(x=\"variable\", y=\"value\", data = pd.melt(final_waste2[['Original random forest','No policy Dijkgraaf 2004',\n",
    "       'Weight Based policy Dijkgraaf 2004','Volume Based policy Dijkgraaf 2004']]))\n",
    "plt.xlabel('Model used',fontsize=18)\n",
    "plt.ylabel('Waste generated per capita in kg/year',fontsize=13)\n",
    "plt.xticks(fontsize=11)\n",
    "plt.yticks(fontsize=15)"
   ]
  }
 ],
 "metadata": {
  "kernelspec": {
   "display_name": "Python 3",
   "language": "python",
   "name": "python3"
  },
  "language_info": {
   "codemirror_mode": {
    "name": "ipython",
    "version": 3
   },
   "file_extension": ".py",
   "mimetype": "text/x-python",
   "name": "python",
   "nbconvert_exporter": "python",
   "pygments_lexer": "ipython3",
   "version": "3.7.6"
  }
 },
 "nbformat": 4,
 "nbformat_minor": 4
}
