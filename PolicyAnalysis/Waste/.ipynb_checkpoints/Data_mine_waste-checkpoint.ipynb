{
 "cells": [
  {
   "cell_type": "code",
   "execution_count": 32,
   "metadata": {},
   "outputs": [],
   "source": [
    "import pandas as pd\n",
    "import numpy as np\n",
    "from sklearn.model_selection import train_test_split\n",
    "from sklearn.ensemble import RandomForestClassifier\n",
    "from sklearn.ensemble import RandomForestRegressor\n",
    "import matplotlib.pyplot as plt\n",
    "from sklearn.metrics import roc_auc_score\n",
    "from sklearn.linear_model import LinearRegression"
   ]
  },
  {
   "cell_type": "markdown",
   "metadata": {},
   "source": [
    "# Gender and age"
   ]
  },
  {
   "cell_type": "code",
   "execution_count": 33,
   "metadata": {},
   "outputs": [],
   "source": [
    "male = pd.read_csv('Household_male.csv')\n",
    "female = pd.read_csv('Household_female.csv')\n",
    "male = male.dropna()\n",
    "female = female.dropna()\n",
    "male['Total_pop_ma'] = male['0 to 5 years'] + male['5 to 10 years'] + male['10 to 15 years'] + male['15 to 20 years']\n",
    "male['Total_pop_ma'] = male['Total_pop_ma'] + male['20 to 25 years'] + male['25 to 30 years'] + male['30 to 35 years'] + male['35 to 40 years']\n",
    "male['Total_pop_ma'] = male['Total_pop_ma'] + male['40 to 45 years'] + male['45 to 50 years'] + male['50 to 55 years'] + male['55 to 60 years']\n",
    "male['Total_pop_ma'] = male['Total_pop_ma'] + male['60 to 65 years'] + male['65 to 70 years'] + male['70 to 75 years'] + male['75 to 80 years']\n",
    "male['Total_pop_ma'] = male['Total_pop_ma'] + male['80 to 85 years'] + male['85 to 90 years'] + male['90 to 95 years'] + male['95 or older']\n",
    "mean_agegroups = np.array([2.5,7.5,12.5,17.5,22.5,27.5,32.5,37.5,42.5,47.5,52.5,57.5,62.5,67.5,72.5,77.5,82.5,87.5,92.5,97.5])\n",
    "male_cols = ['0 to 5 years', '5 to 10 years', '10 to 15 years',\n",
    "       '15 to 20 years', '20 to 25 years', '25 to 30 years', '30 to 35 years',\n",
    "       '35 to 40 years', '40 to 45 years', '45 to 50 years', '50 to 55 years',\n",
    "       '55 to 60 years', '60 to 65 years', '65 to 70 years', '70 to 75 years',\n",
    "       '75 to 80 years', '80 to 85 years', '85 to 90 years', '90 to 95 years',\n",
    "       '95 or older']\n",
    "male = male.reset_index(drop=True)\n",
    "for i in range (0,len(male)):\n",
    "    pop_age_group = []\n",
    "    for col in male_cols:\n",
    "        pop_age_group.append(male.loc[i,col])\n",
    "    total_age_pop_prod = np.multiply(mean_agegroups,pop_age_group)\n",
    "    male.loc[i,'Mean_age_ma'] = np.sum(total_age_pop_prod)/male.loc[i,'Total_pop_ma']\n",
    "male = male[['Municipality','Total_pop_ma','Mean_age_ma']]\n",
    "female['Total_pop_fe'] = female['0 to 5 years'] + female['5 to 10 years'] + female['10 to 15 years'] + female['15 to 20 years']\n",
    "female['Total_pop_fe'] = female['Total_pop_fe'] + female['20 to 25 years'] + female['25 to 30 years'] + female['30 to 35 years'] + female['35 to 40 years']\n",
    "female['Total_pop_fe'] = female['Total_pop_fe'] + female['40 to 45 years'] + female['45 to 50 years'] + female['50 to 55 years'] + female['55 to 60 years']\n",
    "female['Total_pop_fe'] = female['Total_pop_fe'] + female['60 to 65 years'] + female['65 to 70 years'] + female['70 to 75 years'] + female['75 to 80 years']\n",
    "female['Total_pop_fe'] = female['Total_pop_fe'] + female['80 to 85 years'] + female['85 to 90 years'] + female['90 to 95 years'] + female['95 or older']\n",
    "mean_agegroups = np.array([2.5,7.5,12.5,17.5,22.5,27.5,32.5,37.5,42.5,47.5,52.5,57.5,62.5,67.5,72.5,77.5,82.5,87.5,92.5,97.5])\n",
    "female_cols = ['0 to 5 years', '5 to 10 years', '10 to 15 years',\n",
    "       '15 to 20 years', '20 to 25 years', '25 to 30 years', '30 to 35 years',\n",
    "       '35 to 40 years', '40 to 45 years', '45 to 50 years', '50 to 55 years',\n",
    "       '55 to 60 years', '60 to 65 years', '65 to 70 years', '70 to 75 years',\n",
    "       '75 to 80 years', '80 to 85 years', '85 to 90 years', '90 to 95 years',\n",
    "       '95 or older']\n",
    "female = female.reset_index(drop=True)\n",
    "for i in range (0,len(female)):\n",
    "    pop_age_group = []\n",
    "    for col in female_cols:\n",
    "        pop_age_group.append(female.loc[i,col])\n",
    "    total_age_pop_prod = np.multiply(mean_agegroups,pop_age_group)\n",
    "    female.loc[i,'Mean_age_fe'] = np.sum(total_age_pop_prod)/female.loc[i,'Total_pop_fe']\n",
    "female = female[['Municipality','Total_pop_fe','Mean_age_fe']]\n"
   ]
  },
  {
   "cell_type": "code",
   "execution_count": 34,
   "metadata": {},
   "outputs": [],
   "source": [
    "population = pd.merge(male,female,on=['Municipality'],how='inner')"
   ]
  },
  {
   "cell_type": "code",
   "execution_count": 35,
   "metadata": {},
   "outputs": [
    {
     "data": {
      "text/plain": [
       "357"
      ]
     },
     "execution_count": 35,
     "metadata": {},
     "output_type": "execute_result"
    }
   ],
   "source": [
    "population['male_percent'] = population['Total_pop_ma']/(population['Total_pop_ma'] + population['Total_pop_fe'])\n",
    "population['mean_age'] = (population['Total_pop_ma']*population['Mean_age_ma'] + population['Total_pop_fe']*population['Mean_age_fe'])/(population['Total_pop_ma']+population['Total_pop_fe'])\n",
    "population['Total_pop'] = population['Total_pop_ma'] + population['Total_pop_fe']\n",
    "population = population[['Municipality','male_percent','mean_age','Total_pop']]\n",
    "population = population.dropna()\n",
    "len(population)"
   ]
  },
  {
   "cell_type": "markdown",
   "metadata": {},
   "source": [
    "# Education"
   ]
  },
  {
   "cell_type": "code",
   "execution_count": 36,
   "metadata": {},
   "outputs": [
    {
     "data": {
      "text/plain": [
       "351"
      ]
     },
     "execution_count": 36,
     "metadata": {},
     "output_type": "execute_result"
    }
   ],
   "source": [
    "education = pd.read_csv('Education.csv')\n",
    "education = education.dropna()\n",
    "education  =education.reset_index(drop=True)\n",
    "education['Primary'] = education['Primary_nonworking'] + education['Primary_working']\n",
    "education['Secondary'] = education['Secondary_nonworking'] + education['Secondary_working']\n",
    "education['Tertiary'] = education['Tertiary_nonworking'] + education['Tertiary_working']\n",
    "education['secondary_per'] = education['Secondary']/(education['Primary'] + education['Secondary'] + education['Tertiary'])\n",
    "education['tertiary_per'] = education['Tertiary']/(education['Primary'] + education['Secondary'] + education['Tertiary'])\n",
    "education = education[['Personal characteristics','secondary_per','tertiary_per']]\n",
    "education.columns = ['Municipality','Secondary','Tertiary']\n",
    "population = population.merge(education,on=['Municipality'],how='inner')\n",
    "len(population.dropna())"
   ]
  },
  {
   "cell_type": "markdown",
   "metadata": {},
   "source": [
    "# income"
   ]
  },
  {
   "cell_type": "code",
   "execution_count": 37,
   "metadata": {},
   "outputs": [
    {
     "data": {
      "text/plain": [
       "274"
      ]
     },
     "execution_count": 37,
     "metadata": {},
     "output_type": "execute_result"
    }
   ],
   "source": [
    "income = pd.read_csv('Income.csv')\n",
    "income = income[income['Income'] != '.']\n",
    "income['Income'] = (income['Income'].astype('float'))*1000\n",
    "income = income[['Municipality','Income']]\n",
    "population = population.merge(income,on=['Municipality'],how='inner')\n",
    "len(population.dropna())"
   ]
  },
  {
   "cell_type": "markdown",
   "metadata": {},
   "source": [
    "# Household size"
   ]
  },
  {
   "cell_type": "code",
   "execution_count": 38,
   "metadata": {},
   "outputs": [],
   "source": [
    "houses = pd.read_csv('Houses.csv')\n",
    "houses = houses.dropna()\n",
    "houses.columns = ['Municipality','households']\n",
    "population = population.merge(houses,on=['Municipality'],how='inner')\n",
    "population['household size'] = population['Total_pop']/(population['households'].astype('float'))\n",
    "population = population[['Municipality','male_percent','mean_age','Secondary','Tertiary','Income','household size']]"
   ]
  },
  {
   "cell_type": "markdown",
   "metadata": {},
   "source": [
    "# Waste"
   ]
  },
  {
   "cell_type": "code",
   "execution_count": 39,
   "metadata": {},
   "outputs": [],
   "source": [
    "waste = pd.read_csv('Waste.csv')\n",
    "waste.head()\n",
    "waste = waste.dropna()\n",
    "population = population.merge(waste,on=['Municipality'],how='inner')\n",
    "len(population)\n",
    "population = population[population['Waste generated'] != '.']\n",
    "population['Waste generated'] = population['Waste generated'].astype('float')*population['household size']\n",
    "population = population.dropna()"
   ]
  },
  {
   "cell_type": "code",
   "execution_count": 40,
   "metadata": {},
   "outputs": [
    {
     "data": {
      "text/plain": [
       "250"
      ]
     },
     "execution_count": 40,
     "metadata": {},
     "output_type": "execute_result"
    }
   ],
   "source": [
    "len(population)"
   ]
  },
  {
   "cell_type": "markdown",
   "metadata": {},
   "source": [
    "# Random forest"
   ]
  },
  {
   "cell_type": "code",
   "execution_count": 41,
   "metadata": {},
   "outputs": [],
   "source": [
    "waste_per_household = np.array(population['Waste generated'])\n",
    "population = population.drop(['Municipality','Waste generated'],axis=1)\n",
    "#data = data[['Income']]\n",
    "predictors = list(population.columns)\n",
    "population = np.array(population)\n",
    "train_predictors, test_predictors, train_output, test_output =train_test_split(population,waste_per_household, test_size = 0.25, random_state = 42)\n"
   ]
  },
  {
   "cell_type": "code",
   "execution_count": 42,
   "metadata": {},
   "outputs": [
    {
     "data": {
      "text/plain": [
       "63"
      ]
     },
     "execution_count": 42,
     "metadata": {},
     "output_type": "execute_result"
    }
   ],
   "source": [
    "len(test_output)"
   ]
  },
  {
   "cell_type": "code",
   "execution_count": 43,
   "metadata": {},
   "outputs": [
    {
     "data": {
      "text/plain": [
       "0.12288513909895839"
      ]
     },
     "execution_count": 43,
     "metadata": {},
     "output_type": "execute_result"
    }
   ],
   "source": [
    "rf = RandomForestRegressor(n_estimators = 100, random_state = 41)\n",
    "# Train the model on training data\n",
    "rf.fit(train_predictors, train_output)\n",
    "predicted_value_rf = rf.predict(test_predictors)\n",
    "errors_rf = abs((predicted_value_rf-test_output)/test_output)\n",
    "np.mean(errors_rf)"
   ]
  },
  {
   "cell_type": "code",
   "execution_count": 44,
   "metadata": {},
   "outputs": [
    {
     "data": {
      "text/plain": [
       "0.11437425761974715"
      ]
     },
     "execution_count": 44,
     "metadata": {},
     "output_type": "execute_result"
    }
   ],
   "source": [
    "regressor = LinearRegression()  \n",
    "regressor.fit(train_predictors, train_output)\n",
    "predicted_value_ols = regressor.predict(test_predictors)\n",
    "errors_ols = abs((predicted_value_ols-test_output)/test_output)\n",
    "np.mean(errors_ols)"
   ]
  },
  {
   "cell_type": "code",
   "execution_count": 45,
   "metadata": {},
   "outputs": [
    {
     "data": {
      "image/png": "[encoded data removed]",
      "text/plain": [
       "<Figure size 864x432 with 1 Axes>"
      ]
     },
     "metadata": {
      "needs_background": "light"
     },
     "output_type": "display_data"
    }
   ],
   "source": [
    "plt.figure(figsize=(12,6))\n",
    "ax=plt.axes()\n",
    "plt.scatter(test_output,predicted_value_rf,color='red')\n",
    "plt.xlabel('Actual value',fontsize=15)\n",
    "plt.ylabel('Predicted value_rf',fontsize=15)\n",
    "#plt.ylim(350,750)\n",
    "#plt.xlim(350,750)\n",
    "plt.xticks(fontsize=14)\n",
    "plt.yticks(fontsize=14)\n",
    "ax.set_facecolor('lightgray')"
   ]
  },
  {
   "cell_type": "code",
   "execution_count": 46,
   "metadata": {},
   "outputs": [
    {
     "data": {
      "image/png": "[encoded data removed]",
      "text/plain": [
       "<Figure size 864x432 with 1 Axes>"
      ]
     },
     "metadata": {
      "needs_background": "light"
     },
     "output_type": "display_data"
    }
   ],
   "source": [
    "plt.figure(figsize=(12,6))\n",
    "ax=plt.axes()\n",
    "plt.scatter(test_output,predicted_value_ols,color='red')\n",
    "plt.xlabel('Actual value',fontsize=15)\n",
    "plt.ylabel('Predicted value_ols',fontsize=15)\n",
    "#plt.ylim(350,750)\n",
    "#plt.xlim(350,750)\n",
    "plt.xticks(fontsize=14)\n",
    "plt.yticks(fontsize=14)\n",
    "ax.set_facecolor('lightgray')"
   ]
  },
  {
   "cell_type": "markdown",
   "metadata": {},
   "source": [
    "# Buurt data"
   ]
  },
  {
   "cell_type": "code",
   "execution_count": 47,
   "metadata": {},
   "outputs": [
    {
     "name": "stderr",
     "output_type": "stream",
     "text": [
      "C:\\ProgramData\\Anaconda3\\lib\\site-packages\\ipykernel_launcher.py:16: SettingWithCopyWarning: \n",
      "A value is trying to be set on a copy of a slice from a DataFrame.\n",
      "Try using .loc[row_indexer,col_indexer] = value instead\n",
      "\n",
      "See the caveats in the documentation: https://pandas.pydata.org/pandas-docs/stable/user_guide/indexing.html#returning-a-view-versus-a-copy\n",
      "  app.launch_new_instance()\n"
     ]
    },
    {
     "data": {
      "text/html": [
       "<div>\n",
       "<style scoped>\n",
       "    .dataframe tbody tr th:only-of-type {\n",
       "        vertical-align: middle;\n",
       "    }\n",
       "\n",
       "    .dataframe tbody tr th {\n",
       "        vertical-align: top;\n",
       "    }\n",
       "\n",
       "    .dataframe thead th {\n",
       "        text-align: right;\n",
       "    }\n",
       "</style>\n",
       "<table border=\"1\" class=\"dataframe\">\n",
       "  <thead>\n",
       "    <tr style=\"text-align: right;\">\n",
       "      <th></th>\n",
       "      <th>Name</th>\n",
       "      <th>BUURTCODE</th>\n",
       "      <th>Population</th>\n",
       "      <th>Household_size</th>\n",
       "      <th>Waste_generated_per_household</th>\n",
       "      <th>waste per capita</th>\n",
       "    </tr>\n",
       "  </thead>\n",
       "  <tbody>\n",
       "    <tr>\n",
       "      <th>0</th>\n",
       "      <td>Belgisch Park</td>\n",
       "      <td>71</td>\n",
       "      <td>8205</td>\n",
       "      <td>1.9</td>\n",
       "      <td>951.659166</td>\n",
       "      <td>500.873246</td>\n",
       "    </tr>\n",
       "    <tr>\n",
       "      <th>1</th>\n",
       "      <td>Westbroekpark</td>\n",
       "      <td>73</td>\n",
       "      <td>880</td>\n",
       "      <td>1.9</td>\n",
       "      <td>914.887474</td>\n",
       "      <td>481.519723</td>\n",
       "    </tr>\n",
       "    <tr>\n",
       "      <th>2</th>\n",
       "      <td>Duttendel</td>\n",
       "      <td>74</td>\n",
       "      <td>1075</td>\n",
       "      <td>2.1</td>\n",
       "      <td>1087.944876</td>\n",
       "      <td>518.068989</td>\n",
       "    </tr>\n",
       "    <tr>\n",
       "      <th>3</th>\n",
       "      <td>Nassaubuurt</td>\n",
       "      <td>48</td>\n",
       "      <td>1625</td>\n",
       "      <td>2.2</td>\n",
       "      <td>1085.779397</td>\n",
       "      <td>493.536089</td>\n",
       "    </tr>\n",
       "    <tr>\n",
       "      <th>4</th>\n",
       "      <td>Uilennest</td>\n",
       "      <td>75</td>\n",
       "      <td>2100</td>\n",
       "      <td>1.8</td>\n",
       "      <td>917.927795</td>\n",
       "      <td>509.959886</td>\n",
       "    </tr>\n",
       "  </tbody>\n",
       "</table>\n",
       "</div>"
      ],
      "text/plain": [
       "            Name  BUURTCODE  Population  Household_size  \\\n",
       "0  Belgisch Park         71        8205             1.9   \n",
       "1  Westbroekpark         73         880             1.9   \n",
       "2      Duttendel         74        1075             2.1   \n",
       "3    Nassaubuurt         48        1625             2.2   \n",
       "4      Uilennest         75        2100             1.8   \n",
       "\n",
       "   Waste_generated_per_household  waste per capita  \n",
       "0                     951.659166        500.873246  \n",
       "1                     914.887474        481.519723  \n",
       "2                    1087.944876        518.068989  \n",
       "3                    1085.779397        493.536089  \n",
       "4                     917.927795        509.959886  "
      ]
     },
     "execution_count": 47,
     "metadata": {},
     "output_type": "execute_result"
    }
   ],
   "source": [
    "input_data = pd.read_csv('buurt_data_input.csv')\n",
    "income = pd.read_excel('cijfers_short.xlsx')\n",
    "income['income'] = income['Household_size']*income['Income per capita']\n",
    "income = income[['Name','income','Household_size']]\n",
    "input_data['Average_age'] = (input_data['0 to 15 year']*7.5) + (input_data['0 to 15 year']*20) + (input_data['0 to 15 year']*35) + (input_data['0 to 15 year']*55) + (input_data['0 to 15 year']*73.5)\n",
    "input_data = input_data[['Name','BUURTCODE','Population','Male','Average_age','Secondary','Tertiary']]\n",
    "input_data = input_data.merge(income,on=['Name'],how='inner')\n",
    "input_data.head()\n",
    "predictor_data = input_data.drop(['Name','BUURTCODE','Population'],axis=1)\n",
    "#data = data[['Income']]\n",
    "predictors = list(input_data.columns)\n",
    "predictor_data= np.array(predictor_data)\n",
    "waste_generated = rf.predict(predictor_data)\n",
    "input_data['Waste_generated_per_household'] = waste_generated\n",
    "waste = input_data[['Name','BUURTCODE','Population','Household_size','Waste_generated_per_household']]\n",
    "waste['waste per capita'] = waste['Waste_generated_per_household']/waste['Household_size']\n",
    "waste.head()\n",
    "waste.to_csv('waste_generated_hague.csv',index=False)"
   ]
  }
 ],
 "metadata": {
  "kernelspec": {
   "display_name": "Python 3",
   "language": "python",
   "name": "python3"
  },
  "language_info": {
   "codemirror_mode": {
    "name": "ipython",
    "version": 3
   },
   "file_extension": ".py",
   "mimetype": "text/x-python",
   "name": "python",
   "nbconvert_exporter": "python",
   "pygments_lexer": "ipython3",
   "version": "3.7.6"
  }
 },
 "nbformat": 4,
 "nbformat_minor": 4
}
