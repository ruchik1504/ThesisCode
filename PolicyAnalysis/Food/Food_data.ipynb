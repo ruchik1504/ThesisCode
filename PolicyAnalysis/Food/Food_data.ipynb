{
 "cells": [
  {
   "cell_type": "code",
   "execution_count": 26,
   "metadata": {},
   "outputs": [],
   "source": [
    "import pandas as pd\n",
    "import numpy as np\n",
    "import matplotlib.pyplot as plt"
   ]
  },
  {
   "cell_type": "markdown",
   "metadata": {},
   "source": [
    "## Data on Food consumption"
   ]
  },
  {
   "cell_type": "code",
   "execution_count": 3,
   "metadata": {},
   "outputs": [
    {
     "name": "stderr",
     "output_type": "stream",
     "text": [
      "C:\\Users\\patel\\Anaconda3\\lib\\site-packages\\IPython\\core\\interactiveshell.py:3058: DtypeWarning: Columns (1) have mixed types. Specify dtype option on import or set low_memory=False.\n",
      "  interactivity=interactivity, compiler=compiler, result=result)\n"
     ]
    }
   ],
   "source": [
    "key_df = pd.read_excel('Keys.xlsx')\n",
    "food_consumption = pd.read_csv('RIVM_DNFCS2.csv')"
   ]
  },
  {
   "cell_type": "code",
   "execution_count": 4,
   "metadata": {},
   "outputs": [],
   "source": [
    "food_consumption['Sex'] = food_consumption['Sex'].astype('str')\n",
    "food_consumption['Age'] = food_consumption['Age'].astype('str')\n",
    "food_consumption['OtherCharacteristics'] = food_consumption['OtherCharacteristics'].astype('str')\n",
    "food_consumption['FoodGroups'] = food_consumption['FoodGroups'].astype('str')"
   ]
  },
  {
   "cell_type": "code",
   "execution_count": 5,
   "metadata": {},
   "outputs": [],
   "source": [
    "key_sex = key_df[['Key_sex','Sex']].dropna()\n",
    "key_sex.columns = ['Sex','actual_sex']\n",
    "key_sex['Sex'] = key_sex['Sex'].astype('str')\n",
    "food_consumption_sex = food_consumption.merge(key_sex,on=['Sex'])"
   ]
  },
  {
   "cell_type": "code",
   "execution_count": 6,
   "metadata": {},
   "outputs": [],
   "source": [
    "key_age = key_df[['Key_age','Age']].dropna()\n",
    "key_age.columns = ['Age','actual_age']\n",
    "key_age['Age'] = key_age['Age'].astype('str')\n",
    "food_consumption_sex_age = food_consumption_sex.merge(key_age,on=['Age'])"
   ]
  },
  {
   "cell_type": "code",
   "execution_count": 7,
   "metadata": {},
   "outputs": [],
   "source": [
    "key_edu = key_df[['Key_education','Education']].dropna()\n",
    "key_edu.columns = ['OtherCharacteristics','actual_education']\n",
    "key_edu['OtherCharacteristics'] = key_edu['OtherCharacteristics'].astype('str')\n",
    "food_consumption_sex_age_edu = food_consumption_sex_age.merge(key_edu,on=['OtherCharacteristics'])"
   ]
  },
  {
   "cell_type": "code",
   "execution_count": 8,
   "metadata": {},
   "outputs": [],
   "source": [
    "key_food = key_df[['Key_food','Food']].dropna()\n",
    "key_food.columns = ['FoodGroups','Food']\n",
    "key_food['FoodGroups'] = key_food['FoodGroups'].astype('str')\n",
    "food_consumption_final = food_consumption_sex_age_edu.merge(key_food,on=['FoodGroups'])"
   ]
  },
  {
   "cell_type": "code",
   "execution_count": 9,
   "metadata": {},
   "outputs": [],
   "source": [
    "food_consumption_final = food_consumption_final[['actual_sex','actual_age','actual_education','Food','MeanConsumption_1', \n",
    "                                                 'P5_2', 'P50_3', 'P95_4','ConsumptionDays_6', \n",
    "                                                 'MeanConsumptionOnConsumptionDays_7','P5consdays_8', 'P50consdays_9',\n",
    "                                                  'P95consdays_10']]\n",
    "food_consumption_final.columns = ['Sex','Age','Education','Food','MeanConsumption_total','5PercentileConsumption',\n",
    "                                 '50PercentileConsuption','95PercentileConsumption','ConsumptionDays',\n",
    "                                 'MeanConsumptiononConsumptionDays','5percentileConsumptiondays',\n",
    "                                 '50percentileConsumptiondays','95percentileConsumptiondays']"
   ]
  },
  {
   "cell_type": "code",
   "execution_count": 11,
   "metadata": {},
   "outputs": [],
   "source": [
    "food_consumption_final1 = food_consumption_final.dropna()\n",
    "food_consumption_final1.to_csv('final_consumption.csv',index=False)"
   ]
  },
  {
   "cell_type": "markdown",
   "metadata": {},
   "source": [
    "## Data on Socioeconomic indicators of each neighbourhood"
   ]
  },
  {
   "cell_type": "code",
   "execution_count": 12,
   "metadata": {},
   "outputs": [],
   "source": [
    "buurt_data = pd.read_excel('Hague_cijfers.xlsx',sheet_name='Meest-recent')\n",
    "#buurt_data.head()\n",
    "buurt_data = buurt_data[['Naam van het gebied','Soort regio','Codering','Aantal inwoners','Mannen','Vrouwen','0 tot 15 jaar',\n",
    "                        '15 tot 25 jaar']]\n",
    "buurt_data.columns = ['Name','type','code','Population','Man','Woman','0 to 15 year','15 to 25 year']\n",
    "buurt_data = buurt_data.reset_index(drop=True)\n",
    "wijk = ''\n",
    "buurt_data['Nearest wijk'] = 'Den Haag'\n",
    "for i in range (0,len(buurt_data)):\n",
    "    if (buurt_data.loc[i,'type'] == 'Wijk'):\n",
    "        wijk = buurt_data.loc[i,'Name']\n",
    "    buurt_data.loc[i,'Nearest wijk'] = wijk\n",
    "buurt_data['Wijk no'] = buurt_data['Nearest wijk'].str.split(\" \",n=2,expand=True)[1]"
   ]
  },
  {
   "cell_type": "code",
   "execution_count": 13,
   "metadata": {},
   "outputs": [],
   "source": [
    "hague_primary_rate = '33'\n",
    "hague_secondary_rate = '36'\n",
    "hague_tertiary_rate = '31'\n",
    "education = pd.read_csv('Education.csv')\n",
    "education['Wijk no'] = education['Wijken'].str.split(\" \",n = 1, expand = True)[0]\n"
   ]
  },
  {
   "cell_type": "code",
   "execution_count": 14,
   "metadata": {},
   "outputs": [],
   "source": [
    "buurt_data_with_edu = buurt_data.merge(education,on=['Wijk no'])"
   ]
  },
  {
   "cell_type": "code",
   "execution_count": 15,
   "metadata": {},
   "outputs": [],
   "source": [
    "buurt_data_needed = buurt_data_with_edu[['Name','type','code','Population','Man',\n",
    "                                       'Woman','0 to 15 year','15 to 25 year','Wijken',\n",
    "                                       'Opleidingsniveau Laag|2017', 'Opleidingsniveau Middelbaar|2017',\n",
    "                                       'Opleidingsniveau Hoog|2017']]\n",
    "buurt_data_needed.columns =['Name','Type','Code','Population','Man','Woman','0 to 15 year','15 to 25 year','Wijken',\n",
    "                           'Primary education','Secondary education','Tertiary education']"
   ]
  },
  {
   "cell_type": "code",
   "execution_count": 16,
   "metadata": {},
   "outputs": [
    {
     "name": "stderr",
     "output_type": "stream",
     "text": [
      "C:\\Users\\patel\\Anaconda3\\lib\\site-packages\\ipykernel_launcher.py:1: SettingWithCopyWarning: \n",
      "A value is trying to be set on a copy of a slice from a DataFrame.\n",
      "Try using .loc[row_indexer,col_indexer] = value instead\n",
      "\n",
      "See the caveats in the documentation: http://pandas.pydata.org/pandas-docs/stable/user_guide/indexing.html#returning-a-view-versus-a-copy\n",
      "  \"\"\"Entry point for launching an IPython kernel.\n",
      "C:\\Users\\patel\\Anaconda3\\lib\\site-packages\\ipykernel_launcher.py:2: SettingWithCopyWarning: \n",
      "A value is trying to be set on a copy of a slice from a DataFrame.\n",
      "Try using .loc[row_indexer,col_indexer] = value instead\n",
      "\n",
      "See the caveats in the documentation: http://pandas.pydata.org/pandas-docs/stable/user_guide/indexing.html#returning-a-view-versus-a-copy\n",
      "  \n",
      "C:\\Users\\patel\\Anaconda3\\lib\\site-packages\\ipykernel_launcher.py:3: SettingWithCopyWarning: \n",
      "A value is trying to be set on a copy of a slice from a DataFrame.\n",
      "Try using .loc[row_indexer,col_indexer] = value instead\n",
      "\n",
      "See the caveats in the documentation: http://pandas.pydata.org/pandas-docs/stable/user_guide/indexing.html#returning-a-view-versus-a-copy\n",
      "  This is separate from the ipykernel package so we can avoid doing imports until\n",
      "C:\\Users\\patel\\Anaconda3\\lib\\site-packages\\pandas\\core\\generic.py:6786: SettingWithCopyWarning: \n",
      "A value is trying to be set on a copy of a slice from a DataFrame\n",
      "\n",
      "See the caveats in the documentation: http://pandas.pydata.org/pandas-docs/stable/user_guide/indexing.html#returning-a-view-versus-a-copy\n",
      "  self._update_inplace(new_data)\n"
     ]
    }
   ],
   "source": [
    "buurt_data_needed['Primary education'] = buurt_data_needed['Primary education'].fillna(hague_primary_rate)\n",
    "buurt_data_needed['Secondary education'] = buurt_data_needed['Secondary education'].fillna(hague_secondary_rate)\n",
    "buurt_data_needed['Tertiary education'] = buurt_data_needed['Tertiary education'].fillna(hague_tertiary_rate)\n",
    "buurt_data_needed['Primary education'].replace({\"x\":hague_primary_rate}, inplace=True)\n",
    "buurt_data_needed['Secondary education'].replace({\"x\":hague_secondary_rate}, inplace=True)\n",
    "buurt_data_needed['Tertiary education'].replace({\"x\":hague_tertiary_rate}, inplace=True)"
   ]
  },
  {
   "cell_type": "code",
   "execution_count": 19,
   "metadata": {},
   "outputs": [],
   "source": [
    "buurt_data_needed = buurt_data_needed.dropna()\n",
    "buurt_data_needed['0 to 18 year'] = buurt_data_needed['0 to 15 year'] + 0.3*buurt_data_needed['15 to 25 year']\n",
    "buurt_data_needed['18 and more'] = buurt_data_needed['Population']-buurt_data_needed['0 to 18 year']\n",
    "buurt_data_needed['0 to 18 male'] = buurt_data_needed['0 to 18 year']*buurt_data_needed['Man']/buurt_data_needed['Population']\n",
    "buurt_data_needed['0 to 18 female'] = buurt_data_needed['0 to 18 year'] - buurt_data_needed['0 to 18 male']\n",
    "buurt_data_needed['18 and more male'] = buurt_data_needed['Man']-buurt_data_needed['0 to 18 male']\n",
    "buurt_data_needed['18 and more female'] = buurt_data_needed['Woman']-buurt_data_needed['0 to 18 female']"
   ]
  },
  {
   "cell_type": "code",
   "execution_count": 20,
   "metadata": {},
   "outputs": [],
   "source": [
    "buurt_data_needed['0 to 18 male prim'] = (0.01*(buurt_data_needed['0 to 18 male'])*(buurt_data_needed['Primary education'].astype('float'))).astype(int)\n",
    "buurt_data_needed['0 to 18 male second'] = (0.01*(buurt_data_needed['0 to 18 male'])*(buurt_data_needed['Secondary education'].astype('float'))).astype(int)\n",
    "buurt_data_needed['0 to 18 male tert'] = (0.01*(buurt_data_needed['0 to 18 male'])*(buurt_data_needed['Tertiary education'].astype('float'))).astype(int)\n",
    "buurt_data_needed['0 to 18 female prim'] = (0.01*(buurt_data_needed['0 to 18 female'])*(buurt_data_needed['Primary education'].astype('float'))).astype(int)\n",
    "buurt_data_needed['0 to 18 female second'] = (0.01*(buurt_data_needed['0 to 18 female'])*(buurt_data_needed['Secondary education'].astype('float'))).astype(int)\n",
    "buurt_data_needed['0 to 18 female tert'] = (0.01*(buurt_data_needed['0 to 18 female'])*(buurt_data_needed['Tertiary education'].astype('float'))).astype(int)\n",
    "buurt_data_needed['18 and more male prim'] = (0.01*(buurt_data_needed['18 and more male'])*(buurt_data_needed['Primary education'].astype('float'))).astype(int)\n",
    "buurt_data_needed['18 and more male second'] = (0.01*(buurt_data_needed['18 and more male'])*(buurt_data_needed['Secondary education'].astype('float'))).astype(int)\n",
    "buurt_data_needed['18 and more male tert'] = (0.01*(buurt_data_needed['18 and more male'])*(buurt_data_needed['Tertiary education'].astype('float'))).astype(int)\n",
    "buurt_data_needed['18 and more female prim'] = (0.01*(buurt_data_needed['18 and more female'])*(buurt_data_needed['Primary education'].astype('float'))).astype(int)\n",
    "buurt_data_needed['18 and more female second'] = (0.01*(buurt_data_needed['18 and more female'])*(buurt_data_needed['Secondary education'].astype('float'))).astype(int)\n",
    "buurt_data_needed['18 and more female tert'] = (0.01*(buurt_data_needed['18 and more female'])*(buurt_data_needed['Tertiary education'].astype('float'))).astype(int)\n"
   ]
  },
  {
   "cell_type": "code",
   "execution_count": 21,
   "metadata": {},
   "outputs": [],
   "source": [
    "clustered_data = buurt_data_needed[['Name','Type','Code','Population','0 to 18 male prim', '0 to 18 male second', '0 to 18 male tert',\n",
    "                                    '0 to 18 female prim', '0 to 18 female second', '0 to 18 female tert',\n",
    "                                    '18 and more male prim', '18 and more male second',\n",
    "                                    '18 and more male tert', '18 and more female prim',\n",
    "                                    '18 and more female second', '18 and more female tert']]\n",
    "clustered_data.to_csv('clustered_data.csv',index=False)"
   ]
  },
  {
   "cell_type": "markdown",
   "metadata": {},
   "source": [
    "## Merging food consumtpion and socioeconomic indicator data"
   ]
  },
  {
   "cell_type": "code",
   "execution_count": 24,
   "metadata": {},
   "outputs": [],
   "source": [
    "food = pd.read_csv('final_consumption.csv')\n",
    "buurt_data = pd.read_csv('clustered_data.csv')\n"
   ]
  },
  {
   "cell_type": "code",
   "execution_count": 25,
   "metadata": {},
   "outputs": [],
   "source": [
    "food_consumed_each_buurt = pd.DataFrame(columns=['Name','Type','code','Population','Food','Amount per day'])\n",
    "value = 0\n",
    "for specific_foods in (food['Food'].unique()):\n",
    "    male_prim_1to18_con=food.loc[(food['Sex']=='Male') & (food['Education']=='Education: lower') & (food['Age']=='1 to 18 years') & (food['Food']==specific_foods),'MeanConsumption_total'].reset_index(drop=True)[0]\n",
    "    male_sec_1to18_con=food.loc[(food['Sex']=='Male') & (food['Education']=='Education: intermediate') & (food['Age']=='1 to 18 years') & (food['Food']==specific_foods),'MeanConsumption_total'].reset_index(drop=True)[0]\n",
    "    male_tert_1to18_con=food.loc[(food['Sex']=='Male') & (food['Education']=='Education: higher') & (food['Age']=='1 to 18 years') & (food['Food']==specific_foods),'MeanConsumption_total'].reset_index(drop=True)[0]\n",
    "    female_prim_1to18_con=food.loc[(food['Sex']=='Female') & (food['Education']=='Education: lower') & (food['Age']=='1 to 18 years') & (food['Food']==specific_foods),'MeanConsumption_total'].reset_index(drop=True)[0]\n",
    "    female_sec_1to18_con=food.loc[(food['Sex']=='Female') & (food['Education']=='Education: intermediate') & (food['Age']=='1 to 18 years') & (food['Food']==specific_foods),'MeanConsumption_total'].reset_index(drop=True)[0]\n",
    "    female_tert_1to18_con=food.loc[(food['Sex']=='Female') & (food['Education']=='Education: higher') & (food['Age']=='1 to 18 years') & (food['Food']==specific_foods),'MeanConsumption_total'].reset_index(drop=True)[0]\n",
    "    male_prim_18plus_con=food.loc[(food['Sex']=='Male') & (food['Education']=='Education: lower') & (food['Age']=='19 to 79 years') & (food['Food']==specific_foods),'MeanConsumption_total'].reset_index(drop=True)[0]\n",
    "    male_sec_18plus_con=food.loc[(food['Sex']=='Male') & (food['Education']=='Education: intermediate') & (food['Age']=='19 to 79 years') & (food['Food']==specific_foods),'MeanConsumption_total'].reset_index(drop=True)[0]\n",
    "    male_tert_18plus_con=food.loc[(food['Sex']=='Male') & (food['Education']=='Education: higher') & (food['Age']=='19 to 79 years') & (food['Food']==specific_foods),'MeanConsumption_total'].reset_index(drop=True)[0]\n",
    "    female_prim_18plus_con=food.loc[(food['Sex']=='Female') & (food['Education']=='Education: lower') & (food['Age']=='19 to 79 years') & (food['Food']==specific_foods),'MeanConsumption_total'].reset_index(drop=True)[0]\n",
    "    female_sec_18plus_con=food.loc[(food['Sex']=='Female') & (food['Education']=='Education: intermediate') & (food['Age']=='19 to 79 years') & (food['Food']==specific_foods),'MeanConsumption_total'].reset_index(drop=True)[0]\n",
    "    female_tert_18plus_con=food.loc[(food['Sex']=='Female') & (food['Education']=='Education: higher') & (food['Age']=='19 to 79 years') & (food['Food']==specific_foods),'MeanConsumption_total'].reset_index(drop=True)[0]\n",
    "    consumption_list = np.array([male_prim_1to18_con,male_sec_1to18_con,male_tert_1to18_con,\n",
    "                        female_prim_1to18_con,female_sec_1to18_con,female_tert_1to18_con,\n",
    "                        male_prim_18plus_con,male_sec_18plus_con,male_tert_18plus_con,\n",
    "                        female_prim_18plus_con,female_sec_18plus_con,female_tert_18plus_con])\n",
    "    \n",
    "    for specific_region in buurt_data['Name'].unique():\n",
    "        population = buurt_data.loc[buurt_data['Name']== specific_region,'Population'].reset_index(drop=True)[0]\n",
    "        typeofregion = buurt_data.loc[buurt_data['Name']== specific_region,'Type'].reset_index(drop=True)[0]\n",
    "        code = buurt_data.loc[buurt_data['Name']== specific_region,'Code'].reset_index(drop=True)[0]\n",
    "        male_prim_1to18_num = buurt_data.loc[buurt_data['Name']== specific_region,'0 to 18 male prim'].reset_index(drop=True)[0]\n",
    "        male_sec_1to18_num = buurt_data.loc[buurt_data['Name']== specific_region,'0 to 18 male second'].reset_index(drop=True)[0]\n",
    "        male_tert_1to18_num = buurt_data.loc[buurt_data['Name']== specific_region,'0 to 18 male tert'].reset_index(drop=True)[0]\n",
    "        female_prim_1to18_num = buurt_data.loc[buurt_data['Name']== specific_region,'0 to 18 female prim'].reset_index(drop=True)[0]\n",
    "        female_sec_1to18_num = buurt_data.loc[buurt_data['Name']== specific_region,'0 to 18 female second'].reset_index(drop=True)[0]\n",
    "        female_tert_1to18_num = buurt_data.loc[buurt_data['Name']== specific_region,'0 to 18 female tert'].reset_index(drop=True)[0]\n",
    "        male_prim_18plus_num = buurt_data.loc[buurt_data['Name']== specific_region,'18 and more male prim'].reset_index(drop=True)[0]\n",
    "        male_sec_18plus_num = buurt_data.loc[buurt_data['Name']== specific_region,'18 and more male second'].reset_index(drop=True)[0]\n",
    "        male_tert_18plus_num = buurt_data.loc[buurt_data['Name']== specific_region,'18 and more male tert'].reset_index(drop=True)[0]\n",
    "        female_prim_18plus_num = buurt_data.loc[buurt_data['Name']== specific_region,'18 and more female prim'].reset_index(drop=True)[0]\n",
    "        female_sec_18plus_num = buurt_data.loc[buurt_data['Name']== specific_region,'18 and more female second'].reset_index(drop=True)[0]\n",
    "        female_tert_18plus_num = buurt_data.loc[buurt_data['Name']== specific_region,'18 and more female tert'].reset_index(drop=True)[0]\n",
    "        number_list = np.array([male_prim_1to18_num,male_sec_1to18_num,male_tert_1to18_num,\n",
    "                           female_prim_1to18_num,female_sec_1to18_num,female_tert_1to18_num,\n",
    "                           male_prim_18plus_num,male_sec_18plus_num,male_tert_18plus_num,\n",
    "                           female_prim_18plus_num,female_sec_18plus_num,female_tert_18plus_num])\n",
    "        net_buurt_consumption = np.sum(consumption_list*number_list)\n",
    "        food_consumed_each_buurt=food_consumed_each_buurt.append({'Name': specific_region, 'Type': typeofregion, 'code': code,'Population':population,'food':specific_foods,'Amount per day':net_buurt_consumption},ignore_index=True)\n"
   ]
  },
  {
   "cell_type": "code",
   "execution_count": 26,
   "metadata": {},
   "outputs": [],
   "source": [
    "food_consumed_each_buurt = food_consumed_each_buurt[['Name','Type','code','Population','food','Amount per day']]"
   ]
  },
  {
   "cell_type": "code",
   "execution_count": 28,
   "metadata": {},
   "outputs": [
    {
     "data": {
      "text/html": [
       "<div>\n",
       "<style scoped>\n",
       "    .dataframe tbody tr th:only-of-type {\n",
       "        vertical-align: middle;\n",
       "    }\n",
       "\n",
       "    .dataframe tbody tr th {\n",
       "        vertical-align: top;\n",
       "    }\n",
       "\n",
       "    .dataframe thead th {\n",
       "        text-align: right;\n",
       "    }\n",
       "</style>\n",
       "<table border=\"1\" class=\"dataframe\">\n",
       "  <thead>\n",
       "    <tr style=\"text-align: right;\">\n",
       "      <th></th>\n",
       "      <th>Name</th>\n",
       "      <th>Type</th>\n",
       "      <th>code</th>\n",
       "      <th>Population</th>\n",
       "      <th>food</th>\n",
       "      <th>Amount per day</th>\n",
       "    </tr>\n",
       "  </thead>\n",
       "  <tbody>\n",
       "    <tr>\n",
       "      <td>0</td>\n",
       "      <td>Wijk 02 Belgisch Park</td>\n",
       "      <td>Wijk</td>\n",
       "      <td>WK051802</td>\n",
       "      <td>8205</td>\n",
       "      <td>01. Potatoes and other tubers</td>\n",
       "      <td>571320.5</td>\n",
       "    </tr>\n",
       "    <tr>\n",
       "      <td>1</td>\n",
       "      <td>Belgisch Park</td>\n",
       "      <td>Buurt</td>\n",
       "      <td>BU05180271</td>\n",
       "      <td>8205</td>\n",
       "      <td>01. Potatoes and other tubers</td>\n",
       "      <td>571320.5</td>\n",
       "    </tr>\n",
       "    <tr>\n",
       "      <td>2</td>\n",
       "      <td>Wijk 03 Westbroekpark en Duttendel</td>\n",
       "      <td>Wijk</td>\n",
       "      <td>WK051803</td>\n",
       "      <td>1955</td>\n",
       "      <td>01. Potatoes and other tubers</td>\n",
       "      <td>129966.0</td>\n",
       "    </tr>\n",
       "    <tr>\n",
       "      <td>3</td>\n",
       "      <td>Westbroekpark</td>\n",
       "      <td>Buurt</td>\n",
       "      <td>BU05180373</td>\n",
       "      <td>880</td>\n",
       "      <td>01. Potatoes and other tubers</td>\n",
       "      <td>58318.4</td>\n",
       "    </tr>\n",
       "    <tr>\n",
       "      <td>4</td>\n",
       "      <td>Duttendel</td>\n",
       "      <td>Buurt</td>\n",
       "      <td>BU05180374</td>\n",
       "      <td>1075</td>\n",
       "      <td>01. Potatoes and other tubers</td>\n",
       "      <td>71058.2</td>\n",
       "    </tr>\n",
       "  </tbody>\n",
       "</table>\n",
       "</div>"
      ],
      "text/plain": [
       "                                 Name   Type        code Population  \\\n",
       "0               Wijk 02 Belgisch Park   Wijk    WK051802       8205   \n",
       "1                       Belgisch Park  Buurt  BU05180271       8205   \n",
       "2  Wijk 03 Westbroekpark en Duttendel   Wijk    WK051803       1955   \n",
       "3                       Westbroekpark  Buurt  BU05180373        880   \n",
       "4                           Duttendel  Buurt  BU05180374       1075   \n",
       "\n",
       "                            food  Amount per day  \n",
       "0  01. Potatoes and other tubers        571320.5  \n",
       "1  01. Potatoes and other tubers        571320.5  \n",
       "2  01. Potatoes and other tubers        129966.0  \n",
       "3  01. Potatoes and other tubers         58318.4  \n",
       "4  01. Potatoes and other tubers         71058.2  "
      ]
     },
     "execution_count": 28,
     "metadata": {},
     "output_type": "execute_result"
    }
   ],
   "source": [
    "food_consumed_each_buurt.head()"
   ]
  },
  {
   "cell_type": "code",
   "execution_count": 30,
   "metadata": {},
   "outputs": [
    {
     "data": {
      "text/html": [
       "<div>\n",
       "<style scoped>\n",
       "    .dataframe tbody tr th:only-of-type {\n",
       "        vertical-align: middle;\n",
       "    }\n",
       "\n",
       "    .dataframe tbody tr th {\n",
       "        vertical-align: top;\n",
       "    }\n",
       "\n",
       "    .dataframe thead th {\n",
       "        text-align: right;\n",
       "    }\n",
       "</style>\n",
       "<table border=\"1\" class=\"dataframe\">\n",
       "  <thead>\n",
       "    <tr style=\"text-align: right;\">\n",
       "      <th></th>\n",
       "      <th>Name</th>\n",
       "      <th>Type</th>\n",
       "      <th>code</th>\n",
       "      <th>Population</th>\n",
       "      <th>food</th>\n",
       "      <th>Amount per day</th>\n",
       "      <th>BUURTCODE</th>\n",
       "    </tr>\n",
       "  </thead>\n",
       "  <tbody>\n",
       "    <tr>\n",
       "      <td>0</td>\n",
       "      <td>Belgisch Park</td>\n",
       "      <td>Buurt</td>\n",
       "      <td>BU05180271</td>\n",
       "      <td>8205</td>\n",
       "      <td>01. Potatoes and other tubers</td>\n",
       "      <td>571320.5</td>\n",
       "      <td>71</td>\n",
       "    </tr>\n",
       "    <tr>\n",
       "      <td>1</td>\n",
       "      <td>Belgisch Park</td>\n",
       "      <td>Buurt</td>\n",
       "      <td>BU05180271</td>\n",
       "      <td>8205</td>\n",
       "      <td>0100. Unclassified and other tubers</td>\n",
       "      <td>5396.0</td>\n",
       "      <td>71</td>\n",
       "    </tr>\n",
       "    <tr>\n",
       "      <td>2</td>\n",
       "      <td>Belgisch Park</td>\n",
       "      <td>Buurt</td>\n",
       "      <td>BU05180271</td>\n",
       "      <td>8205</td>\n",
       "      <td>0101. Potatoes</td>\n",
       "      <td>565651.3</td>\n",
       "      <td>71</td>\n",
       "    </tr>\n",
       "    <tr>\n",
       "      <td>3</td>\n",
       "      <td>Belgisch Park</td>\n",
       "      <td>Buurt</td>\n",
       "      <td>BU05180271</td>\n",
       "      <td>8205</td>\n",
       "      <td>02. Vegetables</td>\n",
       "      <td>1120356.6</td>\n",
       "      <td>71</td>\n",
       "    </tr>\n",
       "    <tr>\n",
       "      <td>4</td>\n",
       "      <td>Belgisch Park</td>\n",
       "      <td>Buurt</td>\n",
       "      <td>BU05180271</td>\n",
       "      <td>8205</td>\n",
       "      <td>0200. Unclass.</td>\n",
       "      <td>96257.6</td>\n",
       "      <td>71</td>\n",
       "    </tr>\n",
       "  </tbody>\n",
       "</table>\n",
       "</div>"
      ],
      "text/plain": [
       "            Name   Type        code Population  \\\n",
       "0  Belgisch Park  Buurt  BU05180271       8205   \n",
       "1  Belgisch Park  Buurt  BU05180271       8205   \n",
       "2  Belgisch Park  Buurt  BU05180271       8205   \n",
       "3  Belgisch Park  Buurt  BU05180271       8205   \n",
       "4  Belgisch Park  Buurt  BU05180271       8205   \n",
       "\n",
       "                                  food  Amount per day  BUURTCODE  \n",
       "0        01. Potatoes and other tubers        571320.5         71  \n",
       "1  0100. Unclassified and other tubers          5396.0         71  \n",
       "2                       0101. Potatoes        565651.3         71  \n",
       "3                       02. Vegetables       1120356.6         71  \n",
       "4                       0200. Unclass.         96257.6         71  "
      ]
     },
     "execution_count": 30,
     "metadata": {},
     "output_type": "execute_result"
    }
   ],
   "source": [
    "codes = pd.read_csv('C:/Users/patel/Thesis/DataCleaning/GivingBuurtCodes/buurt_codes.csv')\n",
    "codes.rename(columns={'BUURTNAAM':'Name'},inplace=True)\n",
    "codes = codes[['Name','BUURTCODE']]\n",
    "food_consumed_each_buurt = food_consumed_each_buurt.merge(codes,on=['Name'],how='inner')\n",
    "food_consumed_each_buurt.head()"
   ]
  },
  {
   "cell_type": "code",
   "execution_count": 34,
   "metadata": {},
   "outputs": [],
   "source": [
    "food_consumed_each_buurt.to_csv('Foodconsumedperbuurt.csv',index=False)"
   ]
  },
  {
   "cell_type": "code",
   "execution_count": 21,
   "metadata": {},
   "outputs": [],
   "source": [
    "total_food = pd.DataFrame()\n",
    "food_per_buurt = pd.read_csv('Foodconsumedperbuurt.csv')\n",
    "hague_data = pd.read_excel('Hague_cijfers.xlsx',sheet_name='Meest-recent')"
   ]
  },
  {
   "cell_type": "code",
   "execution_count": 22,
   "metadata": {},
   "outputs": [],
   "source": [
    "food_per_buurt = food_per_buurt.dropna()\n",
    "i = 0\n",
    "food_consumed = 0\n",
    "for buurt in food_per_buurt['Name'].unique():\n",
    "    total_food.loc[i,'Name'] = buurt\n",
    "    df = food_per_buurt[food_per_buurt['Name']==buurt]\n",
    "    df = df.reset_index(drop=True)\n",
    "    total_food.loc[i,'BUURTCODE'] = df.loc[0,'BUURTCODE']\n",
    "    total_food.loc[i,'Population'] = df.loc[0,'Population']\n",
    "    for j in range (0,len(df)):\n",
    "        if (df.loc[j,'food'][2] == '.'):\n",
    "            food_consumed = food_consumed + df.loc[j,'Amount per day']\n",
    "    total_food.loc[i,'food_consumed'] = food_consumed\n",
    "    food_consumed = 0\n",
    "    i = i+1"
   ]
  },
  {
   "cell_type": "code",
   "execution_count": 35,
   "metadata": {},
   "outputs": [],
   "source": [
    "hague_data = hague_data[['Naam van het gebied','Gemiddeld inkomen per inwoner ']]\n",
    "hague_data.columns = ['Name','Income per capita']\n",
    "total_food = total_food.merge(hague_data,on=['Name'],how='inner')\n",
    "total_food['Amount per capita'] = total_food['food_consumed']/total_food['Population']\n",
    "total_food.to_csv('total_food.csv',index=False)"
   ]
  },
  {
   "cell_type": "code",
   "execution_count": 34,
   "metadata": {},
   "outputs": [
    {
     "data": {
      "image/png": "[encoded data removed]",
      "text/plain": [
       "<Figure size 864x432 with 1 Axes>"
      ]
     },
     "metadata": {
      "needs_background": "light"
     },
     "output_type": "display_data"
    }
   ],
   "source": [
    "plt.figure(figsize=(12,6))\n",
    "ax=plt.axes()\n",
    "plt.scatter(total_food['Income per capita'],total_food['Amount per capita'],color='red')\n",
    "plt.xlabel('Income per capita(euros per year)',fontsize=15)\n",
    "plt.ylabel('Food consumed per capita (in g/day)',fontsize=15)\n",
    "#plt.ylim(0,150)\n",
    "#plt.xlim(0,150)\n",
    "plt.xticks(fontsize=14)\n",
    "plt.yticks(fontsize=14)\n",
    "ax.set_facecolor('lightgray')"
   ]
  },
  {
   "cell_type": "code",
   "execution_count": 28,
   "metadata": {},
   "outputs": [
    {
     "data": {
      "text/plain": [
       "0.3140542988145079"
      ]
     },
     "execution_count": 28,
     "metadata": {},
     "output_type": "execute_result"
    }
   ],
   "source": [
    "total_food['Income per capita'].corr(total_food['Amount per capita'])"
   ]
  }
 ],
 "metadata": {
  "kernelspec": {
   "display_name": "Python 3",
   "language": "python",
   "name": "python3"
  },
  "language_info": {
   "codemirror_mode": {
    "name": "ipython",
    "version": 3
   },
   "file_extension": ".py",
   "mimetype": "text/x-python",
   "name": "python",
   "nbconvert_exporter": "python",
   "pygments_lexer": "ipython3",
   "version": "3.7.6"
  }
 },
 "nbformat": 4,
 "nbformat_minor": 4
}
