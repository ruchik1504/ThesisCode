{
 "cells": [
  {
   "cell_type": "code",
   "execution_count": 17,
   "metadata": {},
   "outputs": [],
   "source": [
    "import pandas as pd\n",
    "import numpy as np\n",
    "import matplotlib.pyplot as plt"
   ]
  },
  {
   "cell_type": "code",
   "execution_count": 22,
   "metadata": {},
   "outputs": [],
   "source": [
    "predictors = pd.read_csv('C:/Users/patel/Thesis/DataCleaning/Food/RF/inputdata.csv')\n",
    "predicted = pd.read_csv('Meat_consume.csv')\n",
    "#predicted = predicted[predicted['UNIT']=='Thousand tonnes']\n",
    "predicted = predicted.dropna()"
   ]
  },
  {
   "cell_type": "code",
   "execution_count": 23,
   "metadata": {},
   "outputs": [
    {
     "name": "stderr",
     "output_type": "stream",
     "text": [
      "C:\\Users\\patel\\Anaconda3\\lib\\site-packages\\ipykernel_launcher.py:17: SettingWithCopyWarning: \n",
      "A value is trying to be set on a copy of a slice from a DataFrame.\n",
      "Try using .loc[row_indexer,col_indexer] = value instead\n",
      "\n",
      "See the caveats in the documentation: http://pandas.pydata.org/pandas-docs/stable/user_guide/indexing.html#returning-a-view-versus-a-copy\n"
     ]
    }
   ],
   "source": [
    "predicted = predicted[['TIME','GEO','Meat','Value']]\n",
    "typeof = 'Meat'\n",
    "predicted_reformat = pd.DataFrame()\n",
    "number_of_col = 1\n",
    "for type_unique in predicted[typeof].unique():\n",
    "    if (number_of_col == 1):\n",
    "        predicted_unique = predicted[predicted[typeof]==type_unique]\n",
    "        predicted_reformat['TIME'] = predicted_unique['TIME']\n",
    "        predicted_reformat['GEO'] = predicted_unique['GEO']\n",
    "        predicted_unique['Value'].replace({\":\":0}, inplace=True) \n",
    "        predicted_reformat[type_unique] = predicted_unique['Value'].replace({' ':''},regex=True).astype('float')\n",
    "        predicted_reformat = predicted_reformat[predicted_reformat[type_unique] != 0]\n",
    "        number_of_col = number_of_col + 1\n",
    "    else:\n",
    "        predicted_unique = predicted[predicted[typeof]==type_unique]\n",
    "        predicted_unique['Value'].replace({\":\":0}, inplace=True) \n",
    "        predicted_unique[type_unique] = predicted_unique['Value'].replace({' ':''},regex=True).astype('float')\n",
    "        predicted_unique = predicted_unique[predicted_unique[type_unique] != 0]\n",
    "        predicted_reformat = predicted_reformat.merge(predicted_unique[['TIME','GEO',type_unique]],on=['TIME','GEO'],how='inner')\n",
    "predicted_reformat['Total_consumed'] = predicted_reformat.iloc[:,2:].sum(axis=1)\n",
    "predicted_reformat = predicted_reformat[['TIME','GEO','Total_consumed']]\n",
    "predicted_reformat=predicted_reformat[((predicted_reformat['Total_consumed'] - predicted_reformat['Total_consumed'].mean()) / predicted_reformat['Total_consumed'].std()).abs() < 2]\n",
    "input_output = pd.merge(predictors,predicted_reformat,on=['TIME','GEO'],how='inner')\n"
   ]
  },
  {
   "cell_type": "code",
   "execution_count": 24,
   "metadata": {},
   "outputs": [
    {
     "data": {
      "text/plain": [
       "array(['1 712.00', '996 100.00', '23.39', '15 101.07', '1 342.32',\n",
       "       '683 701.56', '122 707.00', '1 733.00', '1 030 212.00', '22.81',\n",
       "       '14 640.89', '108 100.63', '147.2', '1 384.24', '703 865.35',\n",
       "       '1 709.00', '1 005 223.00', '24.49', '15 154.94', '104 767.01',\n",
       "       '1 695.00', '1 016 708.00', '55.7', '105 402.98', '1 678.00',\n",
       "       '972 890.00', '59.1', '35 731.00', '113 556.24', '1 719.00',\n",
       "       '1 006 004.00', '63.4', '37 969.90', '58.76', '33 321.69',\n",
       "       '115 860.94', '64', '38 205.60', '605 011.00', '1 791.26',\n",
       "       '1 077 017.28', '117 922.55', '1 528.85', '754 383.65', '1 650.00',\n",
       "       '955 350.00', '64.5', '38 447.60', '121 008.16', '1 732.00',\n",
       "       '974 045.00', '452.5', '264 575.65', '123 520.51', '1 736.12',\n",
       "       '828 047.54', '1 698.00', '940 369.00', '482.28', '280 546.44'],\n",
       "      dtype=object)"
      ]
     },
     "execution_count": 24,
     "metadata": {},
     "output_type": "execute_result"
    }
   ],
   "source": [
    "predicted_unique['Value'].unique()"
   ]
  },
  {
   "cell_type": "code",
   "execution_count": 25,
   "metadata": {},
   "outputs": [],
   "source": [
    "input_output['Per capita consumption'] = input_output['Total_consumed']*1000000/input_output['Total_pop']\n",
    "final_input_output = input_output.drop(['Total_pop','Total_consumed'],axis=1)\n",
    "final_input_output=final_input_output[((final_input_output['Per capita consumption'] - final_input_output['Per capita consumption'].mean()) / final_input_output['Per capita consumption'].std()).abs() < 2]\n",
    "final_input_output.to_csv('final_input_output.csv',index=False)"
   ]
  }
 ],
 "metadata": {
  "kernelspec": {
   "display_name": "Python 3",
   "language": "python",
   "name": "python3"
  },
  "language_info": {
   "codemirror_mode": {
    "name": "ipython",
    "version": 3
   },
   "file_extension": ".py",
   "mimetype": "text/x-python",
   "name": "python",
   "nbconvert_exporter": "python",
   "pygments_lexer": "ipython3",
   "version": "3.7.4"
  }
 },
 "nbformat": 4,
 "nbformat_minor": 4
}
